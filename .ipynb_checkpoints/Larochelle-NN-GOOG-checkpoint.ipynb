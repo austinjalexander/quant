{
 "cells": [
  {
   "cell_type": "code",
   "execution_count": 1,
   "metadata": {
    "collapsed": false
   },
   "outputs": [
    {
     "name": "stdout",
     "output_type": "stream",
     "text": [
      "(1148, 85) (1148, 1)\n"
     ]
    },
    {
     "data": {
      "text/html": [
       "<div style=\"max-height:1000px;max-width:1500px;overflow:auto;\">\n",
       "<table border=\"1\" class=\"dataframe\">\n",
       "  <thead>\n",
       "    <tr style=\"text-align: right;\">\n",
       "      <th></th>\n",
       "      <th>10.0-CLOSE</th>\n",
       "      <th>10.0-HIGH</th>\n",
       "      <th>10.0-LOW</th>\n",
       "      <th>10.0-OPEN</th>\n",
       "      <th>10.0-VOLUME</th>\n",
       "      <th>10.0-op_cl%</th>\n",
       "      <th>10.0-lo_hi%</th>\n",
       "      <th>10.3-CLOSE</th>\n",
       "      <th>10.3-HIGH</th>\n",
       "      <th>10.3-LOW</th>\n",
       "      <th>...</th>\n",
       "      <th>15.0-op_cl%</th>\n",
       "      <th>15.0-lo_hi%</th>\n",
       "      <th>15.3-CLOSE</th>\n",
       "      <th>15.3-HIGH</th>\n",
       "      <th>15.3-LOW</th>\n",
       "      <th>15.3-OPEN</th>\n",
       "      <th>15.3-VOLUME</th>\n",
       "      <th>15.3-op_cl%</th>\n",
       "      <th>15.3-lo_hi%</th>\n",
       "      <th>week_day</th>\n",
       "    </tr>\n",
       "  </thead>\n",
       "  <tbody>\n",
       "    <tr>\n",
       "      <th>0</th>\n",
       "      <td>7.3900</td>\n",
       "      <td>7.470</td>\n",
       "      <td>7.0304</td>\n",
       "      <td>7.0304</td>\n",
       "      <td>37786</td>\n",
       "      <td>0.051149</td>\n",
       "      <td>0.062528</td>\n",
       "      <td>7.300</td>\n",
       "      <td>7.3900</td>\n",
       "      <td>7.2900</td>\n",
       "      <td>...</td>\n",
       "      <td>0.008174</td>\n",
       "      <td>0.016076</td>\n",
       "      <td>7.38</td>\n",
       "      <td>7.400</td>\n",
       "      <td>7.3400</td>\n",
       "      <td>7.40</td>\n",
       "      <td>7953</td>\n",
       "      <td>-0.002703</td>\n",
       "      <td>0.008174</td>\n",
       "      <td>1</td>\n",
       "    </tr>\n",
       "    <tr>\n",
       "      <th>0</th>\n",
       "      <td>7.0900</td>\n",
       "      <td>7.600</td>\n",
       "      <td>7.0505</td>\n",
       "      <td>7.6000</td>\n",
       "      <td>9525</td>\n",
       "      <td>-0.067105</td>\n",
       "      <td>0.077938</td>\n",
       "      <td>7.018</td>\n",
       "      <td>7.1100</td>\n",
       "      <td>6.9501</td>\n",
       "      <td>...</td>\n",
       "      <td>-0.002869</td>\n",
       "      <td>0.005755</td>\n",
       "      <td>6.91</td>\n",
       "      <td>6.950</td>\n",
       "      <td>6.9000</td>\n",
       "      <td>6.94</td>\n",
       "      <td>7828</td>\n",
       "      <td>-0.004323</td>\n",
       "      <td>0.007246</td>\n",
       "      <td>2</td>\n",
       "    </tr>\n",
       "    <tr>\n",
       "      <th>0</th>\n",
       "      <td>6.7900</td>\n",
       "      <td>6.960</td>\n",
       "      <td>6.7800</td>\n",
       "      <td>6.9600</td>\n",
       "      <td>10002</td>\n",
       "      <td>-0.024425</td>\n",
       "      <td>0.026549</td>\n",
       "      <td>6.681</td>\n",
       "      <td>6.8300</td>\n",
       "      <td>6.6000</td>\n",
       "      <td>...</td>\n",
       "      <td>-0.006039</td>\n",
       "      <td>0.008156</td>\n",
       "      <td>6.62</td>\n",
       "      <td>6.690</td>\n",
       "      <td>6.5600</td>\n",
       "      <td>6.58</td>\n",
       "      <td>13700</td>\n",
       "      <td>0.006079</td>\n",
       "      <td>0.019817</td>\n",
       "      <td>3</td>\n",
       "    </tr>\n",
       "    <tr>\n",
       "      <th>0</th>\n",
       "      <td>6.6500</td>\n",
       "      <td>6.680</td>\n",
       "      <td>6.4600</td>\n",
       "      <td>6.6800</td>\n",
       "      <td>15827</td>\n",
       "      <td>-0.004491</td>\n",
       "      <td>0.034056</td>\n",
       "      <td>6.730</td>\n",
       "      <td>6.9396</td>\n",
       "      <td>6.7001</td>\n",
       "      <td>...</td>\n",
       "      <td>-0.030928</td>\n",
       "      <td>0.039802</td>\n",
       "      <td>6.55</td>\n",
       "      <td>6.576</td>\n",
       "      <td>6.5500</td>\n",
       "      <td>6.57</td>\n",
       "      <td>5300</td>\n",
       "      <td>-0.003044</td>\n",
       "      <td>0.003969</td>\n",
       "      <td>4</td>\n",
       "    </tr>\n",
       "    <tr>\n",
       "      <th>0</th>\n",
       "      <td>5.8884</td>\n",
       "      <td>6.312</td>\n",
       "      <td>5.6300</td>\n",
       "      <td>6.3120</td>\n",
       "      <td>73120</td>\n",
       "      <td>-0.067110</td>\n",
       "      <td>0.121137</td>\n",
       "      <td>6.300</td>\n",
       "      <td>6.3000</td>\n",
       "      <td>5.8600</td>\n",
       "      <td>...</td>\n",
       "      <td>0.009724</td>\n",
       "      <td>0.019640</td>\n",
       "      <td>6.26</td>\n",
       "      <td>6.275</td>\n",
       "      <td>6.2186</td>\n",
       "      <td>6.23</td>\n",
       "      <td>11000</td>\n",
       "      <td>0.004815</td>\n",
       "      <td>0.009070</td>\n",
       "      <td>0</td>\n",
       "    </tr>\n",
       "  </tbody>\n",
       "</table>\n",
       "<p>5 rows × 85 columns</p>\n",
       "</div>"
      ],
      "text/plain": [
       "   10.0-CLOSE  10.0-HIGH  10.0-LOW  10.0-OPEN  10.0-VOLUME  10.0-op_cl%  \\\n",
       "0      7.3900      7.470    7.0304     7.0304        37786     0.051149   \n",
       "0      7.0900      7.600    7.0505     7.6000         9525    -0.067105   \n",
       "0      6.7900      6.960    6.7800     6.9600        10002    -0.024425   \n",
       "0      6.6500      6.680    6.4600     6.6800        15827    -0.004491   \n",
       "0      5.8884      6.312    5.6300     6.3120        73120    -0.067110   \n",
       "\n",
       "   10.0-lo_hi%  10.3-CLOSE  10.3-HIGH  10.3-LOW    ...     15.0-op_cl%  \\\n",
       "0     0.062528       7.300     7.3900    7.2900    ...        0.008174   \n",
       "0     0.077938       7.018     7.1100    6.9501    ...       -0.002869   \n",
       "0     0.026549       6.681     6.8300    6.6000    ...       -0.006039   \n",
       "0     0.034056       6.730     6.9396    6.7001    ...       -0.030928   \n",
       "0     0.121137       6.300     6.3000    5.8600    ...        0.009724   \n",
       "\n",
       "   15.0-lo_hi%  15.3-CLOSE  15.3-HIGH  15.3-LOW  15.3-OPEN  15.3-VOLUME  \\\n",
       "0     0.016076        7.38      7.400    7.3400       7.40         7953   \n",
       "0     0.005755        6.91      6.950    6.9000       6.94         7828   \n",
       "0     0.008156        6.62      6.690    6.5600       6.58        13700   \n",
       "0     0.039802        6.55      6.576    6.5500       6.57         5300   \n",
       "0     0.019640        6.26      6.275    6.2186       6.23        11000   \n",
       "\n",
       "   15.3-op_cl%  15.3-lo_hi%  week_day  \n",
       "0    -0.002703     0.008174         1  \n",
       "0    -0.004323     0.007246         2  \n",
       "0     0.006079     0.019817         3  \n",
       "0    -0.003044     0.003969         4  \n",
       "0     0.004815     0.009070         0  \n",
       "\n",
       "[5 rows x 85 columns]"
      ]
     },
     "execution_count": 1,
     "metadata": {},
     "output_type": "execute_result"
    }
   ],
   "source": [
    "from module_imports import *\n",
    "from download_data import *\n",
    "from import_data import *\n",
    "from larochelle_nn.py import *\n",
    "\n",
    "%matplotlib inline\n",
    "\n",
    "stock_df, prediction_df = pd.DataFrame(), pd.DataFrame()\n",
    "pred_tickers = []\n",
    "source = \"G\"\n",
    "binarize = True\n",
    "gt = 0\n",
    "lt = 10.0\n",
    "vol = 0\n",
    "if source == \"Q\":\n",
    "    stock_df, prediction_df, pred_tickers = get_quandl_data(binarize=True, gt=gt, lt=lt, vol=vol)\n",
    "elif source == \"G\":\n",
    "    stock_df, prediction_df = get_goog_data(binarize=True, gt=gt, lt=lt, vol=vol)\n",
    "    \n",
    "Y = stock_df['label'].values\n",
    "Y = Y.reshape(Y.shape[0], 1)\n",
    "\n",
    "X_df = stock_df.drop('label', axis=1)\n",
    "X = X_df.values\n",
    "\n",
    "print X.shape, Y.shape\n",
    "X_df.tail()"
   ]
  },
  {
   "cell_type": "code",
   "execution_count": 2,
   "metadata": {
    "collapsed": false
   },
   "outputs": [
    {
     "name": "stdout",
     "output_type": "stream",
     "text": [
      "1087\n",
      "61\n"
     ]
    }
   ],
   "source": [
    "'''\n",
    "# randomly balance labeled data\n",
    "indices_Y_is_0 = np.where(Y == 0)[0]\n",
    "print indices_Y_is_0.shape[0]\n",
    "indices_Y_is_1 = np.where(Y == 1)[0]\n",
    "print indices_Y_is_1.shape[0]\n",
    "\n",
    "subset_indices_Y_is_0 = np.random.choice(indices_Y_is_0, indices_Y_is_1.shape[0])\n",
    "X_is_0 = X[subset_indices_Y_is_0]\n",
    "Y_is_0 = Y[subset_indices_Y_is_0]\n",
    "X_is_1 = X[indices_Y_is_1]\n",
    "Y_is_1 = Y[indices_Y_is_1]\n",
    "\n",
    "X = np.concatenate((X_is_0,X_is_1))\n",
    "Y = np.concatenate((Y_is_0,Y_is_1))\n",
    "'''"
   ]
  },
  {
   "cell_type": "code",
   "execution_count": 3,
   "metadata": {
    "collapsed": false
   },
   "outputs": [
    {
     "data": {
      "image/png": "[encoded data removed]",
      "text/plain": [
       "<matplotlib.figure.Figure at 0x109eb7e50>"
      ]
     },
     "metadata": {},
     "output_type": "display_data"
    }
   ],
   "source": [
    "plt.hist(Y)\n",
    "plt.show()"
   ]
  },
  {
   "cell_type": "code",
   "execution_count": 4,
   "metadata": {
    "collapsed": false
   },
   "outputs": [],
   "source": [
    "vectorize_label = True\n",
    "if vectorize_label == True:\n",
    "    new_y = []\n",
    "    positives = []\n",
    "    for i in xrange(Y.shape[0]):\n",
    "        if Y[i] == 0:\n",
    "            new_y.append(np.array([[1],[0]]))\n",
    "        elif Y[i] == 1:\n",
    "            new_y.append(np.array([[0],[1]]))\n",
    "    Y = new_y"
   ]
  },
  {
   "cell_type": "code",
   "execution_count": 5,
   "metadata": {
    "collapsed": true
   },
   "outputs": [],
   "source": [
    "X_train, X_vt, y_train, y_vt = train_test_split(X, Y, test_size=0.30, random_state=42)\n",
    "X_validation, X_test, y_validation, y_test = train_test_split(X_vt, y_vt, test_size=0.50, random_state=42)"
   ]
  },
  {
   "cell_type": "code",
   "execution_count": 6,
   "metadata": {
    "collapsed": false
   },
   "outputs": [],
   "source": [
    "scaler = StandardScaler()\n",
    "X_train = scaler.fit_transform(X_train)"
   ]
  },
  {
   "cell_type": "code",
   "execution_count": 7,
   "metadata": {
    "collapsed": false
   },
   "outputs": [],
   "source": [
    "#for x,y in zip(X_train, y_train):\n",
    "#    print x.reshape(x.shape[0],1)\n",
    "#    print y.reshape(y.shape[0],1)\n",
    "#    break"
   ]
  },
  {
   "cell_type": "markdown",
   "metadata": {},
   "source": [
    "---"
   ]
  },
  {
   "cell_type": "code",
   "execution_count": null,
   "metadata": {
    "collapsed": true
   },
   "outputs": [],
   "source": [
    "#Q,True,0,50.0,0,10,2\n",
    "#h1: 2 h2: 2 epochs: 20 Lambda: 1.0 Reg: L2 alpha: 1.0   <--- alpha was the culprit\n",
    "# np.isnan(W1[0])[0] == True) == True\n",
    "# EPOCH 0"
   ]
  },
  {
   "cell_type": "code",
   "execution_count": null,
   "metadata": {
    "collapsed": false,
    "scrolled": true
   },
   "outputs": [],
   "source": [
    "hs = [1, 2, 5, 10, 15, 50, 75, 100]\n",
    "\n",
    "epochs = 500#20 \n",
    "Lambdas = [0, 0.0001, 0.001, 0.01, 0.1, 1.0]\n",
    "Regs = ['L2', 'L1']\n",
    "alphas = [0.0001, 0.001, 0.01, 0.1]\n",
    "\n",
    "# GRID SEARCH\n",
    "for h in hs:\n",
    "    for Lambda in Lambdas:\n",
    "        for Reg in Regs:\n",
    "            for alpha in alphas:\n",
    "                NN_SGD(X_train, y_train, X_validation, y_validation, h, h, epochs, Lambda, Reg, alpha, plot=False)"
   ]
  },
  {
   "cell_type": "markdown",
   "metadata": {},
   "source": [
    "---"
   ]
  }
 ],
 "metadata": {
  "kernelspec": {
   "display_name": "Python 2",
   "language": "python",
   "name": "python2"
  },
  "language_info": {
   "codemirror_mode": {
    "name": "ipython",
    "version": 2
   },
   "file_extension": ".py",
   "mimetype": "text/x-python",
   "name": "python",
   "nbconvert_exporter": "python",
   "pygments_lexer": "ipython2",
   "version": "2.7.10"
  }
 },
 "nbformat": 4,
 "nbformat_minor": 0
}
