{
 "cells": [
  {
   "cell_type": "code",
   "execution_count": 1,
   "metadata": {
    "collapsed": false
   },
   "outputs": [
    {
     "name": "stdout",
     "output_type": "stream",
     "text": [
      "(170974, 10) (170974, 1)\n"
     ]
    },
    {
     "data": {
      "text/html": [
       "<div style=\"max-height:1000px;max-width:1500px;overflow:auto;\">\n",
       "<table border=\"1\" class=\"dataframe\">\n",
       "  <thead>\n",
       "    <tr style=\"text-align: right;\">\n",
       "      <th></th>\n",
       "      <th>200dravg</th>\n",
       "      <th>50dravg</th>\n",
       "      <th>Close</th>\n",
       "      <th>HL%</th>\n",
       "      <th>High</th>\n",
       "      <th>Low</th>\n",
       "      <th>OC%</th>\n",
       "      <th>Open</th>\n",
       "      <th>Volume</th>\n",
       "      <th>ticker</th>\n",
       "    </tr>\n",
       "  </thead>\n",
       "  <tbody>\n",
       "    <tr>\n",
       "      <th>823</th>\n",
       "      <td>7.04130</td>\n",
       "      <td>8.5224</td>\n",
       "      <td>6.91</td>\n",
       "      <td>0.106259</td>\n",
       "      <td>7.60</td>\n",
       "      <td>6.87</td>\n",
       "      <td>-0.052126</td>\n",
       "      <td>7.29</td>\n",
       "      <td>138100</td>\n",
       "      <td>78</td>\n",
       "    </tr>\n",
       "    <tr>\n",
       "      <th>824</th>\n",
       "      <td>7.03935</td>\n",
       "      <td>8.4868</td>\n",
       "      <td>6.66</td>\n",
       "      <td>0.060976</td>\n",
       "      <td>6.96</td>\n",
       "      <td>6.56</td>\n",
       "      <td>-0.029155</td>\n",
       "      <td>6.86</td>\n",
       "      <td>121400</td>\n",
       "      <td>78</td>\n",
       "    </tr>\n",
       "    <tr>\n",
       "      <th>825</th>\n",
       "      <td>7.03830</td>\n",
       "      <td>8.4550</td>\n",
       "      <td>6.56</td>\n",
       "      <td>0.074303</td>\n",
       "      <td>6.94</td>\n",
       "      <td>6.46</td>\n",
       "      <td>-0.017964</td>\n",
       "      <td>6.68</td>\n",
       "      <td>166700</td>\n",
       "      <td>78</td>\n",
       "    </tr>\n",
       "    <tr>\n",
       "      <th>826</th>\n",
       "      <td>7.03650</td>\n",
       "      <td>8.4026</td>\n",
       "      <td>6.20</td>\n",
       "      <td>0.120782</td>\n",
       "      <td>6.31</td>\n",
       "      <td>5.63</td>\n",
       "      <td>-0.009585</td>\n",
       "      <td>6.26</td>\n",
       "      <td>229200</td>\n",
       "      <td>78</td>\n",
       "    </tr>\n",
       "    <tr>\n",
       "      <th>827</th>\n",
       "      <td>7.03310</td>\n",
       "      <td>8.3398</td>\n",
       "      <td>6.12</td>\n",
       "      <td>0.084437</td>\n",
       "      <td>6.55</td>\n",
       "      <td>6.04</td>\n",
       "      <td>-0.045242</td>\n",
       "      <td>6.41</td>\n",
       "      <td>150200</td>\n",
       "      <td>78</td>\n",
       "    </tr>\n",
       "  </tbody>\n",
       "</table>\n",
       "</div>"
      ],
      "text/plain": [
       "     200dravg  50dravg  Close       HL%  High   Low       OC%  Open  Volume  \\\n",
       "823   7.04130   8.5224   6.91  0.106259  7.60  6.87 -0.052126  7.29  138100   \n",
       "824   7.03935   8.4868   6.66  0.060976  6.96  6.56 -0.029155  6.86  121400   \n",
       "825   7.03830   8.4550   6.56  0.074303  6.94  6.46 -0.017964  6.68  166700   \n",
       "826   7.03650   8.4026   6.20  0.120782  6.31  5.63 -0.009585  6.26  229200   \n",
       "827   7.03310   8.3398   6.12  0.084437  6.55  6.04 -0.045242  6.41  150200   \n",
       "\n",
       "     ticker  \n",
       "823      78  \n",
       "824      78  \n",
       "825      78  \n",
       "826      78  \n",
       "827      78  "
      ]
     },
     "execution_count": 1,
     "metadata": {},
     "output_type": "execute_result"
    }
   ],
   "source": [
    "from module_imports import *\n",
    "from download_data import *\n",
    "from import_data import *\n",
    "from larochelle_nn import *\n",
    "\n",
    "%matplotlib inline\n",
    "\n",
    "stock_df, prediction_df = pd.DataFrame(), pd.DataFrame()\n",
    "pred_tickers = []\n",
    "source = \"Q\"\n",
    "binarize = True\n",
    "gt = 0\n",
    "lt = 10.0\n",
    "vol = 0\n",
    "if source == \"Q\":\n",
    "    stock_df, prediction_df, pred_tickers = get_quandl_data(binarize=True, gt=gt, lt=lt, vol=vol)\n",
    "elif source == \"G\":\n",
    "    stock_df, prediction_df = get_goog_data(binarize=True, gt=gt, lt=lt, vol=vol)\n",
    "    \n",
    "Y = stock_df['label'].values\n",
    "Y = Y.reshape(Y.shape[0], 1)\n",
    "\n",
    "X_df = stock_df.drop(['label','date'], axis=1)\n",
    "X = X_df.values\n",
    "\n",
    "print X.shape, Y.shape\n",
    "X_df.tail()"
   ]
  },
  {
   "cell_type": "code",
   "execution_count": 2,
   "metadata": {
    "collapsed": false
   },
   "outputs": [
    {
     "name": "stdout",
     "output_type": "stream",
     "text": [
      "200dravg 588.678558005\n",
      "50dravg 1119.50872841\n",
      "Close 1417.63685642\n",
      "HL% 2242.26430217\n",
      "High 1325.91638412\n",
      "Low 1580.44774175\n",
      "OC% 676.930545656\n",
      "Open 1457.93915772\n",
      "ticker 7.40932627412\n"
     ]
    }
   ],
   "source": [
    "skb = SelectKBest(k=6)\n",
    "skb = skb.fit(X,Y.ravel())\n",
    "for i in xrange(X_df.columns.shape[0]):\n",
    "    if skb.scores_[i] > 1.0:\n",
    "        print X_df.columns[i], skb.scores_[i]\n",
    "        \n",
    "X = skb.transform(X)"
   ]
  },
  {
   "cell_type": "code",
   "execution_count": 3,
   "metadata": {
    "collapsed": false
   },
   "outputs": [
    {
     "name": "stdout",
     "output_type": "stream",
     "text": [
      "153297\n",
      "17677\n"
     ]
    }
   ],
   "source": [
    "balance_labeled_data = True\n",
    "if balance_labeled_data == True:\n",
    "    # randomly balance labeled data\n",
    "    indices_Y_is_0 = np.where(Y == 0)[0]\n",
    "    print indices_Y_is_0.shape[0]\n",
    "    indices_Y_is_1 = np.where(Y == 1)[0]\n",
    "    print indices_Y_is_1.shape[0]\n",
    "\n",
    "    subset_indices_Y_is_0 = np.random.choice(indices_Y_is_0, indices_Y_is_1.shape[0])\n",
    "    X_is_0 = X[subset_indices_Y_is_0]\n",
    "    Y_is_0 = Y[subset_indices_Y_is_0]\n",
    "    X_is_1 = X[indices_Y_is_1]\n",
    "    Y_is_1 = Y[indices_Y_is_1]\n",
    "\n",
    "    X = np.concatenate((X_is_0,X_is_1))\n",
    "    Y = np.concatenate((Y_is_0,Y_is_1))"
   ]
  },
  {
   "cell_type": "code",
   "execution_count": 4,
   "metadata": {
    "collapsed": false
   },
   "outputs": [],
   "source": [
    "# randomly subset data\n",
    "indices = np.random.randint(low=0,high=X.shape[0],size=(X.shape[0]/20))\n",
    "X = X[indices]\n",
    "Y = Y[indices]"
   ]
  },
  {
   "cell_type": "code",
   "execution_count": 5,
   "metadata": {
    "collapsed": false
   },
   "outputs": [
    {
     "data": {
      "image/png": "[encoded data removed]",
      "text/plain": [
       "<matplotlib.figure.Figure at 0x10b077510>"
      ]
     },
     "metadata": {},
     "output_type": "display_data"
    }
   ],
   "source": [
    "plt.hist(Y)\n",
    "plt.show()"
   ]
  },
  {
   "cell_type": "code",
   "execution_count": 6,
   "metadata": {
    "collapsed": false
   },
   "outputs": [],
   "source": [
    "vectorize_label = True\n",
    "if vectorize_label == True:\n",
    "    new_y = []\n",
    "    positives = []\n",
    "    for i in xrange(Y.shape[0]):\n",
    "        if Y[i] == 0:\n",
    "            new_y.append(np.array([[1],[0]]))\n",
    "        elif Y[i] == 1:\n",
    "            new_y.append(np.array([[0],[1]]))\n",
    "    Y = np.array(new_y)"
   ]
  },
  {
   "cell_type": "code",
   "execution_count": 7,
   "metadata": {
    "collapsed": true
   },
   "outputs": [],
   "source": [
    "X_train, X_vt, y_train, y_vt = train_test_split(X, Y, test_size=0.30, random_state=42)\n",
    "X_validation, X_test, y_validation, y_test = train_test_split(X_vt, y_vt, test_size=0.50, random_state=42)"
   ]
  },
  {
   "cell_type": "code",
   "execution_count": 8,
   "metadata": {
    "collapsed": false
   },
   "outputs": [],
   "source": [
    "scaler = StandardScaler()\n",
    "X_train = scaler.fit_transform(X_train)"
   ]
  },
  {
   "cell_type": "code",
   "execution_count": 9,
   "metadata": {
    "collapsed": false
   },
   "outputs": [],
   "source": [
    "#for x,y in zip(X_train, y_train):\n",
    "#    print x.reshape(x.shape[0],1)\n",
    "#    print y.reshape(y.shape[0],1)\n",
    "#    break"
   ]
  },
  {
   "cell_type": "markdown",
   "metadata": {},
   "source": [
    "---"
   ]
  },
  {
   "cell_type": "code",
   "execution_count": 11,
   "metadata": {
    "collapsed": false,
    "scrolled": true
   },
   "outputs": [],
   "source": [
    "hs = [1, 2, 3, 4, 5, 10, 15]\n",
    "\n",
    "epochs = 100\n",
    "Lambdas = [0.0001, 0.001, 0.01, 0.1, 1.0]\n",
    "Regs = ['L2', 'L1']\n",
    "alphas = [0.0001, 0.001, 0.01, 0.1]\n",
    "\n",
    "# GRID SEARCH\n",
    "#for h in hs:\n",
    "#    for Lambda in Lambdas:\n",
    "#        for Reg in Regs:\n",
    "#            for alpha in alphas:\n",
    "#                NN_SGD(source, binarize, gt, lt, vol, balance_labeled_data, scaler, X_train, y_train, X_validation, y_validation, h, h, epochs, Lambda, Reg, alpha, plot=False)\n",
    "\n",
    "# RANDOM SEARCH\n",
    "for i in xrange(10):\n",
    "    h = np.random.choice(hs)\n",
    "    NN_SGD(source, binarize, gt, lt, vol, balance_labeled_data, scaler, X_train, y_train, X_validation, y_validation, h, h, epochs, np.random.choice(Lambdas), np.random.choice(Regs), np.random.choice(alphas), plot=False)"
   ]
  },
  {
   "cell_type": "markdown",
   "metadata": {},
   "source": [
    "---"
   ]
  }
 ],
 "metadata": {
  "kernelspec": {
   "display_name": "Python 2",
   "language": "python",
   "name": "python2"
  },
  "language_info": {
   "codemirror_mode": {
    "name": "ipython",
    "version": 2
   },
   "file_extension": ".py",
   "mimetype": "text/x-python",
   "name": "python",
   "nbconvert_exporter": "python",
   "pygments_lexer": "ipython2",
   "version": "2.7.10"
  }
 },
 "nbformat": 4,
 "nbformat_minor": 0
}
