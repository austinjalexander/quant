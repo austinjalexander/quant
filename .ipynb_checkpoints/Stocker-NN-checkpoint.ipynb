{
 "cells": [
  {
   "cell_type": "code",
   "execution_count": 1,
   "metadata": {
    "collapsed": false
   },
   "outputs": [],
   "source": [
    "from module_imports import *\n",
    "from download_data import *\n",
    "from import_data import *\n",
    "\n",
    "%matplotlib inline"
   ]
  },
  {
   "cell_type": "markdown",
   "metadata": {},
   "source": [
    "---"
   ]
  },
  {
   "cell_type": "code",
   "execution_count": 2,
   "metadata": {
    "collapsed": false
   },
   "outputs": [],
   "source": [
    "#check_latest('HALO')\n",
    "#download()"
   ]
  },
  {
   "cell_type": "markdown",
   "metadata": {},
   "source": [
    "---"
   ]
  },
  {
   "cell_type": "code",
   "execution_count": 3,
   "metadata": {
    "collapsed": false
   },
   "outputs": [
    {
     "name": "stdout",
     "output_type": "stream",
     "text": [
      "(34344, 9) (34344, 1)\n"
     ]
    },
    {
     "data": {
      "text/html": [
       "<div style=\"max-height:1000px;max-width:1500px;overflow:auto;\">\n",
       "<table border=\"1\" class=\"dataframe\">\n",
       "  <thead>\n",
       "    <tr style=\"text-align: right;\">\n",
       "      <th></th>\n",
       "      <th>Open</th>\n",
       "      <th>High</th>\n",
       "      <th>Low</th>\n",
       "      <th>Close</th>\n",
       "      <th>Volume</th>\n",
       "      <th>50dravg</th>\n",
       "      <th>200dravg</th>\n",
       "      <th>OC%</th>\n",
       "      <th>HL%</th>\n",
       "    </tr>\n",
       "  </thead>\n",
       "  <tbody>\n",
       "    <tr>\n",
       "      <th>381</th>\n",
       "      <td>4.15</td>\n",
       "      <td>4.53</td>\n",
       "      <td>4.10</td>\n",
       "      <td>4.22</td>\n",
       "      <td>506200</td>\n",
       "      <td>3.8646</td>\n",
       "      <td>3.74165</td>\n",
       "      <td>0.016867</td>\n",
       "      <td>0.104878</td>\n",
       "    </tr>\n",
       "    <tr>\n",
       "      <th>383</th>\n",
       "      <td>4.26</td>\n",
       "      <td>4.49</td>\n",
       "      <td>4.26</td>\n",
       "      <td>4.29</td>\n",
       "      <td>100900</td>\n",
       "      <td>3.8976</td>\n",
       "      <td>3.77835</td>\n",
       "      <td>0.007042</td>\n",
       "      <td>0.053991</td>\n",
       "    </tr>\n",
       "    <tr>\n",
       "      <th>385</th>\n",
       "      <td>4.27</td>\n",
       "      <td>4.40</td>\n",
       "      <td>4.22</td>\n",
       "      <td>4.25</td>\n",
       "      <td>106000</td>\n",
       "      <td>3.9192</td>\n",
       "      <td>3.81415</td>\n",
       "      <td>-0.004684</td>\n",
       "      <td>0.042654</td>\n",
       "    </tr>\n",
       "    <tr>\n",
       "      <th>388</th>\n",
       "      <td>4.49</td>\n",
       "      <td>5.00</td>\n",
       "      <td>4.40</td>\n",
       "      <td>4.93</td>\n",
       "      <td>261700</td>\n",
       "      <td>3.9586</td>\n",
       "      <td>3.87385</td>\n",
       "      <td>0.097996</td>\n",
       "      <td>0.136364</td>\n",
       "    </tr>\n",
       "    <tr>\n",
       "      <th>389</th>\n",
       "      <td>4.85</td>\n",
       "      <td>5.18</td>\n",
       "      <td>4.63</td>\n",
       "      <td>5.16</td>\n",
       "      <td>391900</td>\n",
       "      <td>3.9842</td>\n",
       "      <td>3.89765</td>\n",
       "      <td>0.063918</td>\n",
       "      <td>0.118790</td>\n",
       "    </tr>\n",
       "  </tbody>\n",
       "</table>\n",
       "</div>"
      ],
      "text/plain": [
       "     Open  High   Low  Close  Volume  50dravg  200dravg       OC%       HL%\n",
       "381  4.15  4.53  4.10   4.22  506200   3.8646   3.74165  0.016867  0.104878\n",
       "383  4.26  4.49  4.26   4.29  100900   3.8976   3.77835  0.007042  0.053991\n",
       "385  4.27  4.40  4.22   4.25  106000   3.9192   3.81415 -0.004684  0.042654\n",
       "388  4.49  5.00  4.40   4.93  261700   3.9586   3.87385  0.097996  0.136364\n",
       "389  4.85  5.18  4.63   5.16  391900   3.9842   3.89765  0.063918  0.118790"
      ]
     },
     "execution_count": 3,
     "metadata": {},
     "output_type": "execute_result"
    }
   ],
   "source": [
    "refresh_data = True\n",
    "if refresh_data == True:\n",
    "    tickers = [filename[:-4] for filename in os.listdir('/Users/excalibur/Dropbox/datasets/quandl_data/')]\n",
    "\n",
    "    stock_df, prediction_df = get_data(tickers, binarize=True, lt_eq_5=True, high_vol=True)\n",
    "\n",
    "    y = stock_df['label'].values\n",
    "    y = y.reshape(y.shape[0], 1)\n",
    "\n",
    "    X_df = stock_df.drop('label', axis=1)\n",
    "    X = X_df.values\n",
    "\n",
    "    print X.shape, y.shape\n",
    "X_df.tail()"
   ]
  },
  {
   "cell_type": "code",
   "execution_count": 4,
   "metadata": {
    "collapsed": false
   },
   "outputs": [
    {
     "data": {
      "image/png": "[encoded data removed]",
      "text/plain": [
       "<matplotlib.figure.Figure at 0x10b99e650>"
      ]
     },
     "metadata": {},
     "output_type": "display_data"
    }
   ],
   "source": [
    "plt.title('y values')\n",
    "plt.hist(y, bins=100)\n",
    "plt.show()"
   ]
  },
  {
   "cell_type": "code",
   "execution_count": 5,
   "metadata": {
    "collapsed": false
   },
   "outputs": [],
   "source": [
    "vectorize_label = False\n",
    "if vectorize_label == True:\n",
    "    new_y = np.zeros((y.shape[0],2))\n",
    "    positives = []\n",
    "    for i in xrange(y.shape[0]):\n",
    "        if y[i] == 0:\n",
    "            new_y[i] = np.array([[1, 0]])\n",
    "        elif y[i] == 1:\n",
    "            new_y[i] = np.array([[0, 1]])\n",
    "            positives.append(i)\n",
    "\n",
    "    y = new_y\n",
    "    print y.shape"
   ]
  },
  {
   "cell_type": "code",
   "execution_count": 6,
   "metadata": {
    "collapsed": false
   },
   "outputs": [],
   "source": [
    "get_subset = False\n",
    "if get_subset == True:\n",
    "    indices = np.random.choice(X.shape[0], 10000)\n",
    "    X = X[indices,:]\n",
    "    y = y[indices, :]\n",
    "    print X.shape, y.shape"
   ]
  },
  {
   "cell_type": "markdown",
   "metadata": {},
   "source": [
    "---"
   ]
  },
  {
   "cell_type": "code",
   "execution_count": 7,
   "metadata": {
    "collapsed": false
   },
   "outputs": [],
   "source": [
    "class NN(object):\n",
    "    \n",
    "    def __init__(self, Lambda=0):\n",
    "        \n",
    "        # hyperparameters\n",
    "        self.input_layer_size = 10\n",
    "        self.hidden_layer_size = 9\n",
    "        #self.hidden_layer1_size = 10\n",
    "        #self.hidden_layer2_size = 2\n",
    "        self.output_layer_size = 1\n",
    "        \n",
    "        # weights\n",
    "        self.W1 = np.random.randn(self.input_layer_size, self.hidden_layer_size)\n",
    "        self.W2 = np.random.randn(self.hidden_layer_size, self.output_layer_size)\n",
    "        #self.W1 = np.random.randn(self.input_layer_size, self.hidden_layer1_size)\n",
    "        #self.W2 = np.random.randn(self.hidden_layer1_size, self.hidden_layer2_size)\n",
    "        #self.W3 = np.random.randn(self.hidden_layer2_size, self.output_layer_size)\n",
    "        \n",
    "        # regularization\n",
    "        self.Lambda = Lambda\n",
    "        \n",
    "    def get_weights(self):\n",
    "        return np.concatenate((self.W1.ravel(), self.W2.ravel()))\n",
    "        #return np.concatenate((self.W1.ravel(), self.W2.ravel(), self.W3.ravel()))\n",
    "    \n",
    "    def set_weights(self, weights):\n",
    "        W1_start  = 0\n",
    "        \n",
    "        W1_end = (self.hidden_layer_size * self.input_layer_size)\n",
    "        self.W1 = np.reshape(weights[W1_start:W1_end], (self.input_layer_size,self.hidden_layer_size))\n",
    "        #W1_end = (self.hidden_layer1_size * self.input_layer_size)\n",
    "        #self.W1 = np.reshape(weights[W1_start:W1_end], (self.input_layer_size,self.hidden_layer1_size))\n",
    "        \n",
    "        W2_end = W1_end + (self.hidden_layer_size * self.output_layer_size)\n",
    "        self.W2 = np.reshape(weights[W1_end:W2_end], (self.hidden_layer_size,self.output_layer_size))\n",
    "        \n",
    "        #W2_end = W1_end + (self.hidden_layer2_size * self.hidden_layer1_size)\n",
    "        #self.W2 = np.reshape(weights[W1_end:W2_end], (self.hidden_layer1_size,self.hidden_layer2_size))\n",
    "        #W3_end = W2_end + (self.hidden_layer2_size * self.output_layer_size)\n",
    "        #self.W3 = np.reshape(weights[W2_end:W3_end], (self.hidden_layer2_size,self.output_layer_size))\n",
    "    \n",
    "    def forward_propagate(self, X):\n",
    "        self.z2 = np.dot(X, self.W1)\n",
    "        self.a2 = self.activation(self.z2) \n",
    "        self.z3 = np.dot(self.a2, self.W2)\n",
    "        \n",
    "        y_hat = self.activation(self.z3)\n",
    "        \n",
    "        #self.a3 = self.activation(self.z3) \n",
    "        #self.z4 = np.dot(self.a3, self.W3)    \n",
    "        #y_hat = self.activation(self.z4)\n",
    "        \n",
    "        return y_hat\n",
    "    \n",
    "    def activation(self, z):\n",
    "        #return np.true_divide(1, (1 + np.exp(-z))) # sigmoid\n",
    "        return np.log(1 + np.exp(z)) # softplus\n",
    "\n",
    "    def visualize_activation(self):\n",
    "        inputs = np.arange(-6,6,0.01)\n",
    "        plt.plot(inputs, self.activation(inputs))\n",
    "        plt.show()\n",
    "        \n",
    "    def activation_prime(self, z):\n",
    "        #return np.true_divide(np.exp(-z), ((1 + np.exp(-z))**2)) # sigmoid derivative\n",
    "        return np.true_divide(1, (1 + np.exp(-z))) # softplus derivative (i.e., sigmoid!)\n",
    "        \n",
    "    def visualize_activation_prime(self):\n",
    "        inputs = np.arange(-6,6,0.01)\n",
    "        plt.plot(inputs, self.activation(inputs))\n",
    "        plt.plot(inputs, self.activation_prime(inputs))\n",
    "        plt.show()\n",
    "        \n",
    "    def cost(self, X, y):\n",
    "        self.y_hat = self.forward_propagate(X)\n",
    "        left = 0.5 * np.sum((y - self.y_hat)**2)/X.shape[0]\n",
    "        right = (self.Lambda/2.0)*(np.sum(self.W1**2) + np.sum(self.W2**2))\n",
    "        #right = (self.Lambda/2.0)*(np.sum(self.W1**2) + np.sum(self.W2**2) + np.sum(self.W3**2))\n",
    "        return left + right\n",
    "        \n",
    "    def cost_prime(self, X, y):\n",
    "        self.y_hat = self.forward_propagate(X)\n",
    "        \n",
    "        #delta4 =  np.multiply(-(y - self.y_hat), self.activation_prime(self.z4))\n",
    "        #dJdW3 = np.dot(self.a3.T, delta4)/X.shape[0] + (self.Lambda*self.W3)\n",
    "        \n",
    "        #delta3 =  np.dot(delta4, self.W3.T) * self.activation_prime(self.z3)\n",
    "        delta3 =  np.multiply(-(y - self.y_hat), self.activation_prime(self.z3))\n",
    "        dJdW2 = np.dot(self.a2.T, delta3)/X.shape[0] + (self.Lambda*self.W2)\n",
    "        \n",
    "        delta2 = np.dot(delta3, self.W2.T) * self.activation_prime(self.z2)\n",
    "        dJdW1 = np.dot(X.T, delta2)/X.shape[0] + (self.Lambda*self.W1)\n",
    "        \n",
    "        #return dJdW1, dJdW2, dJdW3\n",
    "        return dJdW1, dJdW2\n",
    "                           \n",
    "    def back_propagate(self, X, y):\n",
    "        #dJdW1, dJdW2, dJdW3 = self.cost_prime(X, y)\n",
    "        dJdW1, dJdW2 = self.cost_prime(X, y)\n",
    "        #return np.concatenate((dJdW1.ravel(), dJdW2.ravel(), dJdW3.ravel()))\n",
    "        return np.concatenate((dJdW1.ravel(), dJdW2.ravel()))"
   ]
  },
  {
   "cell_type": "code",
   "execution_count": 8,
   "metadata": {
    "collapsed": false
   },
   "outputs": [],
   "source": [
    "def test_activation():\n",
    "    nn = NN()\n",
    "    nn.visualize_activation_prime()\n",
    "#test_activation()"
   ]
  },
  {
   "cell_type": "code",
   "execution_count": 9,
   "metadata": {
    "collapsed": false
   },
   "outputs": [],
   "source": [
    "def testNN():\n",
    "    nn = NN()\n",
    "    y_hat = nn.forward_propagate(X)\n",
    "    print y_hat, \"\\n\"\n",
    "    print y, \"\\n\"\n",
    "    \n",
    "    cost1 = nn.cost(X,y)\n",
    "    print cost1, \"\\n\"\n",
    "\n",
    "    dJdW1, dJdW2 = nn.cost_prime(X,y)\n",
    "    print dJdW1, \"\\n\"\n",
    "    print dJdW2\n",
    "#testNN()"
   ]
  },
  {
   "cell_type": "markdown",
   "metadata": {},
   "source": [
    "---"
   ]
  },
  {
   "cell_type": "code",
   "execution_count": 10,
   "metadata": {
    "collapsed": false
   },
   "outputs": [],
   "source": [
    "def estimate_gradient(nn_test, nn_X, nn_test_y):\n",
    "    weights = nn_test.get_weights()\n",
    "    estimated_gradient = np.zeros(weights.shape)\n",
    "    perturb = np.zeros(weights.shape)\n",
    "    epsilon = 1e-4\n",
    "    \n",
    "    for i in xrange(len(weights)):\n",
    "        perturb[i] = epsilon\n",
    "        \n",
    "        nn_test.set_weights(weights + perturb)\n",
    "        loss2 = nn_test.cost(nn_test_X, nn_test_y)\n",
    "        \n",
    "        nn_test.set_weights(weights - perturb)\n",
    "        loss1 = nn_test.cost(nn_test_X, nn_test_y)\n",
    "        \n",
    "        estimated_gradient[i] = (loss2 - loss1) / (2 * epsilon)\n",
    "        \n",
    "        perturb[i] = 0\n",
    "    \n",
    "    nn_test.set_weights(weights)\n",
    "        \n",
    "    return estimated_gradient"
   ]
  },
  {
   "cell_type": "code",
   "execution_count": 11,
   "metadata": {
    "collapsed": false
   },
   "outputs": [],
   "source": [
    "def test_gradient_estimation(nn_test, nn_test_X, nn_test_y):\n",
    "    \n",
    "    nn_test_X = StandardScaler().fit_transform(nn_test_X)\n",
    "    nn_test_X = np.hstack((np.ones((nn_test_X.shape[0], 1)), nn_test_X))\n",
    "\n",
    "    estimated_gradient = estimate_gradient(nn_test, nn_test_X, nn_test_y)\n",
    "    gradient = nn_test.back_propagate(nn_test_X, nn_test_y)\n",
    "\n",
    "    print \"\\n\\t--- Gradient Checking ---\"\n",
    "    print estimated_gradient[:3]\n",
    "    print gradient[:3], \"\\n\"\n",
    "    print \"\\tdiff:\", np.linalg.norm(gradient-estimated_gradient)/np.linalg.norm(gradient+estimated_gradient)   \n",
    "    print \"\\t-------------------------\"\n",
    "    \n",
    "test_grad_est = False\n",
    "if test_grad_est == True:\n",
    "    test_gradient_estimation(nn_test, X, y)"
   ]
  },
  {
   "cell_type": "markdown",
   "metadata": {},
   "source": [
    "---"
   ]
  },
  {
   "cell_type": "code",
   "execution_count": 12,
   "metadata": {
    "collapsed": true
   },
   "outputs": [],
   "source": [
    "class trainer(object):\n",
    "    \n",
    "    def __init__(self, N):\n",
    "        self.N = N\n",
    "        \n",
    "    def callback(self, weights):\n",
    "        self.N.set_weights(weights)\n",
    "        self.J.append(self.N.cost(self.X_train, self.y_train))\n",
    "        self.test_J.append(self.N.cost(self.X_test, self.y_test))\n",
    "        \n",
    "    def cost_wrapper(self, weights, X, y):\n",
    "        self.N.set_weights(weights)\n",
    "        c = self.N.cost(X, y)\n",
    "        g = self.N.back_propagate(X,y)\n",
    "        \n",
    "        return c, g\n",
    "    \n",
    "    def set_scale(self, X):\n",
    "        self.scaler = StandardScaler().fit(X)\n",
    "        \n",
    "    def get_scale(self):\n",
    "        return self.scaler\n",
    "    \n",
    "    def add_bias(self, X):\n",
    "        return np.hstack((np.ones((X.shape[0], 1)), X))\n",
    "    \n",
    "    def trainBFGS(self, X, y):\n",
    "        \n",
    "        X_train, X_test, y_train, y_test = train_test_split(X, y, test_size=0.2, random_state=42)\n",
    "        \n",
    "        self.set_scale(X_train)\n",
    "        scaler = self.get_scale()\n",
    "        \n",
    "        X_train = scaler.transform(X_train)\n",
    "        self.X_train = self.add_bias(X_train)\n",
    "        self.y_train = y_train # StandardScaler().fit_transform(y_train)\n",
    "        \n",
    "        self.X_test = scaler.transform(X_test)\n",
    "        self.X_test = self.add_bias(X_test)\n",
    "        self.y_test = y_test # StandardScaler().fit_transform(y_test)\n",
    "        \n",
    "        self.J = []\n",
    "        self.test_J = []\n",
    "        \n",
    "        weights0 = self.N.get_weights()\n",
    "        \n",
    "        options = {'maxiter':500, 'disp':True}\n",
    "        _res = optimize.minimize(self.cost_wrapper, weights0, jac=True, method='BFGS', args=(self.X_train,self.y_train), options=options, callback=self.callback)\n",
    "        \n",
    "        self.N.set_weights(_res.x)\n",
    "        self.optimization_results = _res\n",
    "        \n",
    "    def trainSGD(self, X, y):\n",
    "        X_train, X_test, y_train, y_test = train_test_split(X, y, test_size=0.2, random_state=42)\n",
    "        \n",
    "        self.set_scale(X_train)\n",
    "        scaler = self.get_scale()\n",
    "        \n",
    "        X_train = scaler.transform(X_train)\n",
    "        self.X_train = self.add_bias(X_train)\n",
    "        self.y_train = y_train # StandardScaler().fit_transform(y_train)\n",
    "        \n",
    "        self.X_test = scaler.transform(X_test)\n",
    "        self.X_test = self.add_bias(X_test)\n",
    "        self.y_test = y_test # StandardScaler().fit_transform(y_test)\n",
    "        \n",
    "        self.J = []\n",
    "        self.test_J = []\n",
    "        \n",
    "        clf = SGDClassifier()\n",
    "        clf.fit(X_train, y_train.ravel())\n",
    "        \n",
    "        self.N.set_weights(clf.coef_)\n",
    "        "
   ]
  },
  {
   "cell_type": "code",
   "execution_count": 13,
   "metadata": {
    "collapsed": false
   },
   "outputs": [
    {
     "name": "stdout",
     "output_type": "stream",
     "text": [
      "Optimization terminated successfully.\n",
      "         Current function value: 0.043167\n",
      "         Iterations: 250\n",
      "         Function evaluations: 284\n",
      "         Gradient evaluations: 284\n",
      "\n",
      "time for training: 13.27 seconds\n"
     ]
    },
    {
     "data": {
      "image/png": "[encoded data removed]",
      "text/plain": [
       "<matplotlib.figure.Figure at 0x10bb68cd0>"
      ]
     },
     "metadata": {},
     "output_type": "display_data"
    }
   ],
   "source": [
    "time0 = time()\n",
    "\n",
    "nn = NN(Lambda=0.0001) # 0.0001\n",
    "Trainer = trainer(nn)\n",
    "Trainer.trainBFGS(X,y)\n",
    "#Trainer.trainSGD(X,y)\n",
    "\n",
    "test_grad_est = False\n",
    "if test_grad_est == True:\n",
    "    test_gradient_estimation(nn, X, y)\n",
    "\n",
    "print \"\\ntime for training:\", np.round((time() - time0),2), \"seconds\"\n",
    "\n",
    "plt.plot(Trainer.J)\n",
    "plt.plot(Trainer.test_J)\n",
    "plt.legend(['J', 'test_J'])\n",
    "plt.show()"
   ]
  },
  {
   "cell_type": "markdown",
   "metadata": {},
   "source": [
    "---"
   ]
  },
  {
   "cell_type": "code",
   "execution_count": 14,
   "metadata": {
    "collapsed": false
   },
   "outputs": [
    {
     "name": "stdout",
     "output_type": "stream",
     "text": [
      " 0 ABIO [[ 0.09]]\n",
      " 1 APPY [[ 0.13]]\n",
      " 2 ARNA [[ 0.14]]\n",
      " 3 BCLI [[ 0.08]]\n",
      " 4 BGMD [[ 0.14]]\n",
      " 5 CLDN [[ 0.12]]\n",
      " 6 CPRX [[ 0.18]]\n",
      " 7 CRIS [[ 0.13]]\n",
      " 8 CYTR [[ 0.1]]\n",
      " 9 DSCO [[ 0.12]]\n",
      "10 ECTE [[ 0.15]]\n",
      "11 ECYT [[ 0.12]]\n",
      "12 ENZN [[ 0.09]]\n",
      "13 ETRM [[ 0.12]]\n",
      "14 IDRA [[ 0.16]]\n",
      "15 IMMU [[ 0.19]]\n",
      "16 IMRS [[ 0.19]]\n",
      "17 MEIP [[ 0.12]]\n",
      "18 MNKD [[ 0.11]]\n",
      "19 OREX [[ 0.12]]\n",
      "20 QLTI [[ 0.06]]\n",
      "21 THLD [[ 0.08]]\n"
     ]
    }
   ],
   "source": [
    "pred_df = prediction_df[prediction_df['label'].apply(np.isnan) == True]\n",
    "pred_tickers = pred_df['ticker'].unique()\n",
    "pred_X = pred_df.drop(['ticker','label'], axis=1).values\n",
    "\n",
    "for i in xrange(pred_X.shape[0]):\n",
    "    scaler = Trainer.get_scale()\n",
    "    x = scaler.transform(pred_X[i:i+1,0:9])\n",
    "    x = Trainer.add_bias(x)\n",
    "    y_hat = nn.forward_propagate(x)\n",
    "    print str(i).rjust(2), str(pred_tickers[i]).rjust(4), np.round(y_hat,2)"
   ]
  }
 ],
 "metadata": {
  "kernelspec": {
   "display_name": "Python 2",
   "language": "python",
   "name": "python2"
  },
  "language_info": {
   "codemirror_mode": {
    "name": "ipython",
    "version": 2
   },
   "file_extension": ".py",
   "mimetype": "text/x-python",
   "name": "python",
   "nbconvert_exporter": "python",
   "pygments_lexer": "ipython2",
   "version": "2.7.10"
  }
 },
 "nbformat": 4,
 "nbformat_minor": 0
}
