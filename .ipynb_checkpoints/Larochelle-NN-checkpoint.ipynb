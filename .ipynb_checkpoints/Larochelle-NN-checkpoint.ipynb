{
 "cells": [
  {
   "cell_type": "code",
   "execution_count": 1,
   "metadata": {
    "collapsed": false
   },
   "outputs": [
    {
     "name": "stdout",
     "output_type": "stream",
     "text": [
      "\n",
      "96 total tickers to start\n",
      "\n",
      "removed: AAVL\n",
      "removed: APTO\n",
      "removed: ATRA\n",
      "removed: BLFS\n",
      "removed: CAPN\n",
      "removed: CASI\n",
      "removed: CDTX\n",
      "removed: CGNT\n",
      "removed: CHRS\n",
      "removed: CLLS\n",
      "removed: DBVT\n",
      "removed: EDAP\n",
      "removed: GENE\n",
      "removed: INCR\n",
      "removed: JUNO\n",
      "removed: KITE\n",
      "removed: LOXO\n",
      "removed: TENX\n",
      "\n",
      "78 available tickers:\n",
      "['ABIO', 'ACOR', 'ADMA', 'AERI', 'AFFX', 'AGEN', 'APPY', 'ARDM', 'ARIA', 'ARNA', 'ARWR', 'AXDX', 'AXGN', 'BABY', 'BASI', 'BCLI', 'BCRX', 'BGMD', 'BIIB', 'BLUE', 'BOTA', 'BRKR', 'CBLI', 'CBMG', 'CBMX', 'CBPO', 'CGEN', 'CLDN', 'CLDX', 'CNMD', 'COHR', 'CPHD', 'CPRX', 'CRIS', 'CUTR', 'CYBX', 'CYNO', 'CYTR', 'DARA', 'DRAD', 'DSCO', 'DYAX', 'ECTE', 'ECYT', 'ELOS', 'ENZN', 'ESMC', 'ETRM', 'EXAS', 'EXEL', 'FATE', 'FEIC', 'FLDM', 'FONR', 'GILD', 'GNCA', 'HALO', 'HSKA', 'IART', 'ICCC', 'IDRA', 'IDXX', 'ILMN', 'IMMU', 'IMRS', 'INCY', 'INO', 'IRIX', 'LPCN', 'MEIP', 'MNKD', 'OREX', 'PGNX', 'QLTI', 'RMTI', 'SGYP', 'THLD', 'TNXP']\n",
      "(170974, 11) (170974, 1)\n"
     ]
    },
    {
     "data": {
      "text/html": [
       "<div style=\"max-height:1000px;max-width:1500px;overflow:auto;\">\n",
       "<table border=\"1\" class=\"dataframe\">\n",
       "  <thead>\n",
       "    <tr style=\"text-align: right;\">\n",
       "      <th></th>\n",
       "      <th>200dravg</th>\n",
       "      <th>50dravg</th>\n",
       "      <th>Close</th>\n",
       "      <th>HL%</th>\n",
       "      <th>High</th>\n",
       "      <th>Low</th>\n",
       "      <th>OC%</th>\n",
       "      <th>Open</th>\n",
       "      <th>Volume</th>\n",
       "      <th>date</th>\n",
       "      <th>ticker</th>\n",
       "    </tr>\n",
       "  </thead>\n",
       "  <tbody>\n",
       "    <tr>\n",
       "      <th>823</th>\n",
       "      <td>7.04130</td>\n",
       "      <td>8.5224</td>\n",
       "      <td>6.91</td>\n",
       "      <td>0.106259</td>\n",
       "      <td>7.60</td>\n",
       "      <td>6.87</td>\n",
       "      <td>-0.052126</td>\n",
       "      <td>7.29</td>\n",
       "      <td>138100</td>\n",
       "      <td>2015-08-19</td>\n",
       "      <td>78</td>\n",
       "    </tr>\n",
       "    <tr>\n",
       "      <th>824</th>\n",
       "      <td>7.03935</td>\n",
       "      <td>8.4868</td>\n",
       "      <td>6.66</td>\n",
       "      <td>0.060976</td>\n",
       "      <td>6.96</td>\n",
       "      <td>6.56</td>\n",
       "      <td>-0.029155</td>\n",
       "      <td>6.86</td>\n",
       "      <td>121400</td>\n",
       "      <td>2015-08-20</td>\n",
       "      <td>78</td>\n",
       "    </tr>\n",
       "    <tr>\n",
       "      <th>825</th>\n",
       "      <td>7.03830</td>\n",
       "      <td>8.4550</td>\n",
       "      <td>6.56</td>\n",
       "      <td>0.074303</td>\n",
       "      <td>6.94</td>\n",
       "      <td>6.46</td>\n",
       "      <td>-0.017964</td>\n",
       "      <td>6.68</td>\n",
       "      <td>166700</td>\n",
       "      <td>2015-08-21</td>\n",
       "      <td>78</td>\n",
       "    </tr>\n",
       "    <tr>\n",
       "      <th>826</th>\n",
       "      <td>7.03650</td>\n",
       "      <td>8.4026</td>\n",
       "      <td>6.20</td>\n",
       "      <td>0.120782</td>\n",
       "      <td>6.31</td>\n",
       "      <td>5.63</td>\n",
       "      <td>-0.009585</td>\n",
       "      <td>6.26</td>\n",
       "      <td>229200</td>\n",
       "      <td>2015-08-24</td>\n",
       "      <td>78</td>\n",
       "    </tr>\n",
       "    <tr>\n",
       "      <th>827</th>\n",
       "      <td>7.03310</td>\n",
       "      <td>8.3398</td>\n",
       "      <td>6.12</td>\n",
       "      <td>0.084437</td>\n",
       "      <td>6.55</td>\n",
       "      <td>6.04</td>\n",
       "      <td>-0.045242</td>\n",
       "      <td>6.41</td>\n",
       "      <td>150200</td>\n",
       "      <td>2015-08-25</td>\n",
       "      <td>78</td>\n",
       "    </tr>\n",
       "  </tbody>\n",
       "</table>\n",
       "</div>"
      ],
      "text/plain": [
       "     200dravg  50dravg  Close       HL%  High   Low       OC%  Open  Volume  \\\n",
       "823   7.04130   8.5224   6.91  0.106259  7.60  6.87 -0.052126  7.29  138100   \n",
       "824   7.03935   8.4868   6.66  0.060976  6.96  6.56 -0.029155  6.86  121400   \n",
       "825   7.03830   8.4550   6.56  0.074303  6.94  6.46 -0.017964  6.68  166700   \n",
       "826   7.03650   8.4026   6.20  0.120782  6.31  5.63 -0.009585  6.26  229200   \n",
       "827   7.03310   8.3398   6.12  0.084437  6.55  6.04 -0.045242  6.41  150200   \n",
       "\n",
       "           date  ticker  \n",
       "823  2015-08-19      78  \n",
       "824  2015-08-20      78  \n",
       "825  2015-08-21      78  \n",
       "826  2015-08-24      78  \n",
       "827  2015-08-25      78  "
      ]
     },
     "execution_count": 1,
     "metadata": {},
     "output_type": "execute_result"
    }
   ],
   "source": [
    "from module_imports import *\n",
    "from download_data import *\n",
    "from import_data import *\n",
    "from larochelle_nn import *\n",
    "\n",
    "%matplotlib inline\n",
    "\n",
    "download_quandl()\n",
    "\n",
    "stock_df, prediction_df = pd.DataFrame(), pd.DataFrame()\n",
    "pred_tickers = []\n",
    "source = \"Q\"\n",
    "binarize = True\n",
    "gt = 0\n",
    "lt = 10.0\n",
    "vol = 0\n",
    "if source == \"Q\":\n",
    "    stock_df, prediction_df, pred_tickers = get_quandl_data(binarize=True, gt=gt, lt=lt, vol=vol)\n",
    "elif source == \"G\":\n",
    "    stock_df, prediction_df, pred_tickers = get_goog_data(binarize=True, gt=gt, lt=lt, vol=vol)\n",
    "    \n",
    "Y = stock_df['label'].values\n",
    "Y = Y.reshape(Y.shape[0], 1)\n",
    "\n",
    "X_df = stock_df.drop('label', axis=1)\n",
    "X = X_df.values\n",
    "\n",
    "print X.shape, Y.shape\n",
    "X_df.tail()"
   ]
  },
  {
   "cell_type": "code",
   "execution_count": null,
   "metadata": {
    "collapsed": false
   },
   "outputs": [],
   "source": [
    "'''\n",
    "# randomly balance labeled data\n",
    "indices_Y_is_0 = np.where(Y == 0)[0]\n",
    "print indices_Y_is_0.shape[0]\n",
    "indices_Y_is_1 = np.where(Y == 1)[0]\n",
    "print indices_Y_is_1.shape[0]\n",
    "\n",
    "subset_indices_Y_is_0 = np.random.choice(indices_Y_is_0, indices_Y_is_1.shape[0])\n",
    "X_is_0 = X[subset_indices_Y_is_0]\n",
    "Y_is_0 = Y[subset_indices_Y_is_0]\n",
    "X_is_1 = X[indices_Y_is_1]\n",
    "Y_is_1 = Y[indices_Y_is_1]\n",
    "\n",
    "X = np.concatenate((X_is_0,X_is_1))\n",
    "Y = np.concatenate((Y_is_0,Y_is_1))\n",
    "'''"
   ]
  },
  {
   "cell_type": "code",
   "execution_count": null,
   "metadata": {
    "collapsed": false
   },
   "outputs": [],
   "source": [
    "'''\n",
    "# double positive examples\n",
    "indices_Y_is_1 = np.where(Y == 1)[0]\n",
    "print len(indices_Y_is_1)\n",
    "\n",
    "X_is_1 = X[indices_Y_is_1]\n",
    "Y_is_1 = Y[indices_Y_is_1]\n",
    "\n",
    "print X_is_1.shape, Y_is_1.shape\n",
    "\n",
    "iterations = (Y.shape[0] - Y_is_1.shape[0])/Y_is_1.shape[0]\n",
    "\n",
    "for i in xrange(iterations):\n",
    "    X = np.concatenate((X, X_is_1))\n",
    "    Y = np.concatenate((Y, Y_is_1))\n",
    "    \n",
    "print X.shape, Y.shape\n",
    "'''"
   ]
  },
  {
   "cell_type": "code",
   "execution_count": null,
   "metadata": {
    "collapsed": false
   },
   "outputs": [],
   "source": [
    "plt.hist(Y)\n",
    "plt.show()"
   ]
  },
  {
   "cell_type": "code",
   "execution_count": null,
   "metadata": {
    "collapsed": false
   },
   "outputs": [],
   "source": [
    "vectorize_label = True\n",
    "if vectorize_label == True:\n",
    "    new_y = []\n",
    "    positives = []\n",
    "    for i in xrange(Y.shape[0]):\n",
    "        if Y[i] == 0:\n",
    "            new_y.append(np.array([[1],[0]]))\n",
    "        elif Y[i] == 1:\n",
    "            new_y.append(np.array([[0],[1]]))\n",
    "    Y = np.array(new_y)"
   ]
  },
  {
   "cell_type": "code",
   "execution_count": null,
   "metadata": {
    "collapsed": true
   },
   "outputs": [],
   "source": [
    "X_train, X_vt, y_train, y_vt = train_test_split(X, Y, test_size=0.30, random_state=42)\n",
    "X_validation, X_test, y_validation, y_test = train_test_split(X_vt, y_vt, test_size=0.50, random_state=42)"
   ]
  },
  {
   "cell_type": "code",
   "execution_count": null,
   "metadata": {
    "collapsed": false
   },
   "outputs": [],
   "source": [
    "scaler = StandardScaler()\n",
    "X_train = scaler.fit_transform(X_train)"
   ]
  },
  {
   "cell_type": "code",
   "execution_count": null,
   "metadata": {
    "collapsed": false
   },
   "outputs": [],
   "source": [
    "#for x,y in zip(X_train, y_train):\n",
    "#    print x.reshape(x.shape[0],1)\n",
    "#    print y.reshape(y.shape[0],1)\n",
    "#    break"
   ]
  },
  {
   "cell_type": "markdown",
   "metadata": {},
   "source": [
    "---"
   ]
  },
  {
   "cell_type": "code",
   "execution_count": null,
   "metadata": {
    "collapsed": false,
    "scrolled": true
   },
   "outputs": [],
   "source": [
    "h = 10\n",
    "\n",
    "epochs = 800\n",
    "Lambda = 0.01\n",
    "Reg = 'L2'\n",
    "alpha = 0.0001\n",
    "\n",
    "W = []\n",
    "b = []\n",
    "\n",
    "W,b = NN_SGD(source, binarize, gt, lt, vol, balance_labeled_data, scaler, X_train, y_train, X_validation, y_validation, h, h, epochs, Lambda, Reg, alpha, plot=True)"
   ]
  },
  {
   "cell_type": "markdown",
   "metadata": {},
   "source": [
    "---"
   ]
  },
  {
   "cell_type": "code",
   "execution_count": null,
   "metadata": {
    "collapsed": false
   },
   "outputs": [],
   "source": [
    "def loss(f_x,y):\n",
    "    i = np.where(y == 1)[0][0]\n",
    "    return -np.log(f_x[i]) # negative log-likelihood\n",
    "\n",
    "def forward_prop(x, W1, b1, W2, b2, W3, b3):\n",
    "    def sigm(z):\n",
    "        return 1/(1+np.exp(-z))\n",
    "\n",
    "    def softmax(z):\n",
    "        return np.exp(z)/np.sum(np.exp(z))\n",
    "\n",
    "    z1 = b1 + np.dot(W1,x)\n",
    "    a1 = sigm(z1)\n",
    "\n",
    "    z2 = b2 + np.dot(W2,a1)\n",
    "    a2 = sigm(z2)\n",
    "\n",
    "    z3 = b3 + np.dot(W3,a2)\n",
    "    a3 = softmax(z3)\n",
    "\n",
    "    f_x = a3\n",
    "    return z1, a1, z2, a2, z3, a3, f_x\n",
    "\n",
    "testing_losses = []\n",
    "# testing\n",
    "for x,y in zip(X_test, y_test):\n",
    "\n",
    "    x = scaler.transform(x)\n",
    "    x = x.reshape(x.shape[0],1)\n",
    "    y = y.reshape(y.shape[0],1)\n",
    "\n",
    "    z1, a1, z2, a2, z3, a3, f_x = forward_prop(x, W[0], b[0], W[1], b[1], W[2], b[2])\n",
    "\n",
    "    testing_loss = np.round(loss(f_x,y),2)\n",
    "    testing_losses.append(testing_loss)\n",
    "    \n",
    "    \n",
    "print \"Testing Loss:\", np.mean(testing_losses)"
   ]
  },
  {
   "cell_type": "code",
   "execution_count": null,
   "metadata": {
    "collapsed": false
   },
   "outputs": [],
   "source": [
    "pred_df = prediction_df[prediction_df['label'].apply(np.isnan) == True]\n",
    "pred_X = pred_df.drop(['label'], axis=1).values"
   ]
  },
  {
   "cell_type": "code",
   "execution_count": null,
   "metadata": {
    "collapsed": false
   },
   "outputs": [],
   "source": [
    "for i in xrange(pred_X.shape[0]):\n",
    "    x = scaler.transform(pred_X[i])\n",
    "    x = x.reshape(x.shape[0],1)\n",
    "    \n",
    "    z1, a1, z2, a2, z3, a3, f_x = forward_prop(x, W[0], b[0], W[1], b[1], W[2], b[2])\n",
    "    \n",
    "    print str(i).rjust(2), str(pred_tickers[i]).rjust(4), f_x[0], f_x[1]\n",
    "    "
   ]
  }
 ],
 "metadata": {
  "kernelspec": {
   "display_name": "Python 2",
   "language": "python",
   "name": "python2"
  },
  "language_info": {
   "codemirror_mode": {
    "name": "ipython",
    "version": 2
   },
   "file_extension": ".py",
   "mimetype": "text/x-python",
   "name": "python",
   "nbconvert_exporter": "python",
   "pygments_lexer": "ipython2",
   "version": "2.7.10"
  }
 },
 "nbformat": 4,
 "nbformat_minor": 0
}
