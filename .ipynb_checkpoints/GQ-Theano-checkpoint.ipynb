{
 "cells": [
  {
   "cell_type": "code",
   "execution_count": 30,
   "metadata": {
    "collapsed": false
   },
   "outputs": [],
   "source": [
    "from module_imports import *\n",
    "from download_data import *\n",
    "from import_data import *\n",
    "\n",
    "import theano.tensor as T\n",
    "from theano import function\n",
    "\n",
    "%matplotlib inline\n",
    "\n",
    "\n",
    "#download_quandl()\n",
    "#download_goog()\n",
    "'''\n",
    "Q_stock_df, Q_prediction_df, Q_pred_tickers = get_quandl_data()\n",
    "G_stock_df, G_prediction_df, G_pred_tickers = get_goog_data()\n",
    "\n",
    "GQ_df = pd.merge(Q_stock_df, G_stock_df, how='outer', on=['ticker', 'date']).dropna()\n",
    "#####GQ_df = GQ_df[GQ_df['label_x'] == GQ_df['label_y']]\n",
    "\n",
    "GQ_prediction_df = pd.merge(Q_prediction_df, G_prediction_df, how='outer', on=['ticker', 'date'])\n",
    "\n",
    "GQ_df.to_csv('GQ_df.csv', index=False)\n",
    "GQ_prediction_df.to_csv('GQ_prediction_df.csv', index=False)\n",
    "#'''\n",
    "GQ_df = pd.read_csv('GQ_df.csv')\n",
    "GQ_prediction_df = pd.read_csv('GQ_prediction_df.csv')"
   ]
  },
  {
   "cell_type": "code",
   "execution_count": 31,
   "metadata": {
    "collapsed": false
   },
   "outputs": [
    {
     "data": {
      "text/plain": [
       "SGYP    48\n",
       "BABY    48\n",
       "SGMO    48\n",
       "THLD    48\n",
       "SGEN    48\n",
       "ACOR    48\n",
       "RPRX    48\n",
       "NSTG    48\n",
       "AFFX    48\n",
       "BCRX    48\n",
       "dtype: int64"
      ]
     },
     "execution_count": 31,
     "metadata": {},
     "output_type": "execute_result"
    }
   ],
   "source": [
    "GQ_df['ticker'].value_counts()[:10]"
   ]
  },
  {
   "cell_type": "code",
   "execution_count": 32,
   "metadata": {
    "collapsed": false
   },
   "outputs": [
    {
     "data": {
      "text/plain": [
       "(221, 98)"
      ]
     },
     "execution_count": 32,
     "metadata": {},
     "output_type": "execute_result"
    }
   ],
   "source": [
    "GQ_df[GQ_df['label_x'] >= 0.05].shape"
   ]
  },
  {
   "cell_type": "code",
   "execution_count": 33,
   "metadata": {
    "collapsed": false
   },
   "outputs": [
    {
     "data": {
      "text/plain": [
       "(4008, 98)"
      ]
     },
     "execution_count": 33,
     "metadata": {},
     "output_type": "execute_result"
    }
   ],
   "source": [
    "GQ_df[GQ_df['label_x'] < 0.05].shape"
   ]
  },
  {
   "cell_type": "code",
   "execution_count": 34,
   "metadata": {
    "collapsed": false
   },
   "outputs": [],
   "source": [
    "# keep PPS > gt\n",
    "GQ_df = GQ_df[GQ_df['Open'] > 0]\n",
    "\n",
    "# keep PPS < lt\n",
    "GQ_df = GQ_df[GQ_df['Open'] < 20.0]\n",
    "\n",
    "# keep volume > vol\n",
    "GQ_df = GQ_df[GQ_df['Volume'] > 1000]\n",
    "\n",
    "# binarize labels\n",
    "GQ_df['label_x'] = GQ_df['label_x'].map(lambda x: 1 if x >= 0.05 else 0)\n",
    "\n",
    "Y = GQ_df['label_x'].values\n",
    "Y = Y.reshape(Y.shape[0], 1)\n",
    "\n",
    "X_df = GQ_df.drop(['label_x','label_y','date'], axis=1)\n",
    "X_df['ticker'] = X_df['ticker'].astype('category').cat.codes\n",
    "X = X_df.values"
   ]
  },
  {
   "cell_type": "code",
   "execution_count": 35,
   "metadata": {
    "collapsed": true
   },
   "outputs": [],
   "source": [
    "balance_labeled_data = True\n",
    "# BALANCE LABELS\n",
    "if balance_labeled_data == True:\n",
    "    # randomly balance labeled data\n",
    "    indices_Y_is_0 = np.where(Y == 0)[0]\n",
    "    #print indices_Y_is_0.shape[0]\n",
    "    indices_Y_is_1 = np.where(Y == 1)[0]\n",
    "    #print indices_Y_is_1.shape[0]\n",
    "\n",
    "    subset_indices_Y_is_0 = np.random.choice(indices_Y_is_0, indices_Y_is_1.shape[0])\n",
    "    X_is_0 = X[subset_indices_Y_is_0]\n",
    "    Y_is_0 = Y[subset_indices_Y_is_0]\n",
    "    X_is_1 = X[indices_Y_is_1]\n",
    "    Y_is_1 = Y[indices_Y_is_1]\n",
    "\n",
    "    X = np.concatenate((X_is_0,X_is_1))\n",
    "    Y = np.concatenate((Y_is_0,Y_is_1))"
   ]
  },
  {
   "cell_type": "code",
   "execution_count": 36,
   "metadata": {
    "collapsed": false
   },
   "outputs": [
    {
     "data": {
      "text/plain": [
       "(356, 95)"
      ]
     },
     "execution_count": 36,
     "metadata": {},
     "output_type": "execute_result"
    }
   ],
   "source": [
    "X.shape"
   ]
  },
  {
   "cell_type": "code",
   "execution_count": 37,
   "metadata": {
    "collapsed": false
   },
   "outputs": [
    {
     "data": {
      "image/png": "[encoded data removed]",
      "text/plain": [
       "<matplotlib.figure.Figure at 0x1114c0e50>"
      ]
     },
     "metadata": {},
     "output_type": "display_data"
    }
   ],
   "source": [
    "plt.hist(Y)\n",
    "plt.show()"
   ]
  },
  {
   "cell_type": "code",
   "execution_count": 38,
   "metadata": {
    "collapsed": true
   },
   "outputs": [],
   "source": [
    "X_train, X_vt, y_train, y_vt = train_test_split(X, Y, test_size=0.30, random_state=42)\n",
    "X_validation, X_test, y_validation, y_test = train_test_split(X_vt, y_vt, test_size=0.50, random_state=42)\n",
    "\n",
    "scaler = StandardScaler()\n",
    "X_train = scaler.fit_transform(X_train)"
   ]
  },
  {
   "cell_type": "code",
   "execution_count": 39,
   "metadata": {
    "collapsed": false
   },
   "outputs": [],
   "source": [
    "X_validation = scaler.transform(X_validation)"
   ]
  },
  {
   "cell_type": "code",
   "execution_count": 40,
   "metadata": {
    "collapsed": false
   },
   "outputs": [
    {
     "data": {
      "text/plain": [
       "(249, 95)"
      ]
     },
     "execution_count": 40,
     "metadata": {},
     "output_type": "execute_result"
    }
   ],
   "source": [
    "X_train.shape"
   ]
  },
  {
   "cell_type": "code",
   "execution_count": 41,
   "metadata": {
    "collapsed": false
   },
   "outputs": [
    {
     "data": {
      "text/plain": [
       "array([0, 1, 1, 0, 0, 0, 0, 0, 0, 0, 0, 1, 0, 0, 0, 0, 0, 1, 1, 1, 0, 0, 0,\n",
       "       1, 0, 1, 1, 0, 1, 0, 0, 1, 1, 0, 1, 1, 1, 0, 0, 1, 0, 0, 1, 0, 1, 0,\n",
       "       0, 0, 0, 0, 0, 1, 0, 0, 0, 1, 0, 1, 0, 1, 1, 1, 1, 1, 1, 1, 0, 0, 0,\n",
       "       1, 1, 0, 1, 1, 1, 0, 1, 1, 1, 1, 0, 1, 1, 0, 1, 0, 0, 1, 1, 1, 0, 1,\n",
       "       1, 1, 0, 0, 1, 0, 0, 1, 0, 1, 1, 0, 1, 1, 0, 1, 0, 1, 0, 1, 0, 0, 0,\n",
       "       0, 0, 0, 0, 0, 1, 0, 1, 0, 1, 0, 1, 1, 1, 0, 0, 0, 1, 1, 0, 0, 1, 0,\n",
       "       1, 0, 0, 1, 1, 1, 0, 1, 1, 1, 1, 1, 0, 0, 1, 0, 0, 0, 1, 1, 0, 1, 1,\n",
       "       1, 0, 1, 0, 0, 0, 0, 0, 0, 0, 0, 0, 1, 1, 1, 1, 1, 1, 1, 1, 1, 1, 1,\n",
       "       1, 1, 1, 0, 0, 1, 1, 1, 0, 0, 0, 0, 0, 1, 0, 1, 0, 0, 1, 1, 0, 0, 1,\n",
       "       0, 1, 0, 1, 1, 1, 1, 0, 0, 0, 1, 1, 1, 0, 0, 0, 1, 1, 0, 1, 0, 1, 1,\n",
       "       1, 1, 1, 0, 0, 0, 0, 0, 1, 1, 0, 1, 0, 1, 0, 0, 1, 1, 0])"
      ]
     },
     "execution_count": 41,
     "metadata": {},
     "output_type": "execute_result"
    }
   ],
   "source": [
    "y_train.ravel()"
   ]
  },
  {
   "cell_type": "markdown",
   "metadata": {},
   "source": [
    "---"
   ]
  },
  {
   "cell_type": "code",
   "execution_count": 43,
   "metadata": {
    "collapsed": false
   },
   "outputs": [],
   "source": [
    "x = T.bcol('x')\n",
    "y = T.bcol('y')\n",
    "f_x = T.bcol('f_x')\n",
    "\n",
    "h = T.bmatrix('h')\n",
    "\n",
    "W = T.bmatrix('W')\n",
    "\n",
    "b = T.bcol('b')\n",
    "\n",
    "l = -T.log(f_x)\n",
    "\n",
    "loss = function([f_x], l)"
   ]
  },
  {
   "cell_type": "code",
   "execution_count": 44,
   "metadata": {
    "collapsed": false
   },
   "outputs": [
    {
     "ename": "NameError",
     "evalue": "name 'lasagne' is not defined",
     "output_type": "error",
     "traceback": [
      "\u001b[0;31m---------------------------------------------------------------------------\u001b[0m",
      "\u001b[0;31mNameError\u001b[0m                                 Traceback (most recent call last)",
      "\u001b[0;32m<ipython-input-44-deb04729a3fa>\u001b[0m in \u001b[0;36m<module>\u001b[0;34m()\u001b[0m\n\u001b[0;32m----> 1\u001b[0;31m \u001b[0ml_in\u001b[0m \u001b[0;34m=\u001b[0m \u001b[0mlasagne\u001b[0m\u001b[0;34m.\u001b[0m\u001b[0mlayers\u001b[0m\u001b[0;34m.\u001b[0m\u001b[0mInputLayer\u001b[0m\u001b[0;34m(\u001b[0m\u001b[0;34m(\u001b[0m\u001b[0;36m95\u001b[0m\u001b[0;34m,\u001b[0m \u001b[0;36m1\u001b[0m\u001b[0;34m)\u001b[0m\u001b[0;34m)\u001b[0m\u001b[0;34m\u001b[0m\u001b[0m\n\u001b[0m\u001b[1;32m      2\u001b[0m \u001b[0ml_hidden\u001b[0m \u001b[0;34m=\u001b[0m \u001b[0mlasagne\u001b[0m\u001b[0;34m.\u001b[0m\u001b[0mlayers\u001b[0m\u001b[0;34m.\u001b[0m\u001b[0mDenseLayer\u001b[0m\u001b[0;34m(\u001b[0m\u001b[0ml_in\u001b[0m\u001b[0;34m,\u001b[0m \u001b[0mnum_units\u001b[0m\u001b[0;34m=\u001b[0m\u001b[0;36m50\u001b[0m\u001b[0;34m)\u001b[0m\u001b[0;34m\u001b[0m\u001b[0m\n\u001b[1;32m      3\u001b[0m l_out = lasagne.layers.DenseLayer(l_hidden, num_units=2,\n\u001b[1;32m      4\u001b[0m                                   nonlinearity=T.nnet.softmax)\n",
      "\u001b[0;31mNameError\u001b[0m: name 'lasagne' is not defined"
     ]
    }
   ],
   "source": []
  },
  {
   "cell_type": "code",
   "execution_count": null,
   "metadata": {
    "collapsed": true
   },
   "outputs": [],
   "source": []
  },
  {
   "cell_type": "code",
   "execution_count": null,
   "metadata": {
    "collapsed": true
   },
   "outputs": [],
   "source": []
  },
  {
   "cell_type": "code",
   "execution_count": null,
   "metadata": {
    "collapsed": true
   },
   "outputs": [],
   "source": []
  },
  {
   "cell_type": "code",
   "execution_count": null,
   "metadata": {
    "collapsed": false
   },
   "outputs": [],
   "source": [
    "'''\n",
    "model = FunctionSet(\n",
    "    l1 = F.Linear(95, 50),\n",
    "    l2 = F.Linear(50, 50),\n",
    "    l3 = F.Linear(50,  1),\n",
    ")\n",
    "optimizer = optimizers.SGD()\n",
    "optimizer.setup(model)\n",
    "\n",
    "def forward(x_data, y_data):\n",
    "    x = Variable(x_data)\n",
    "    t = Variable(y_data)\n",
    "    h1 = F.relu(model.l1(x))\n",
    "    h2 = F.relu(model.l2(h1))\n",
    "    y = model.l3(h2)\n",
    "    return F.softmax_cross_entropy(y, t), F.accuracy(y, t)\n",
    "\n",
    "batchsize = 100\n",
    "for epoch in xrange(20):\n",
    "    print 'epoch', epoch\n",
    "    indexes = np.random.permutation(1684)\n",
    "    for i in xrange(0, 1684, batchsize):\n",
    "        x_batch = X_train[indexes[i : i + batchsize]].astype('float32')\n",
    "        y_batch = y_train[indexes[i : i + batchsize]].astype('int32')\n",
    "\n",
    "        optimizer.zero_grads()\n",
    "        loss, accuracy = forward(x_batch, y_batch)\n",
    "        loss.backward()\n",
    "        optimizer.update()\n",
    "'''"
   ]
  },
  {
   "cell_type": "code",
   "execution_count": null,
   "metadata": {
    "collapsed": false
   },
   "outputs": [],
   "source": [
    "[2**x for x in xrange(-15, 20, 5)]"
   ]
  },
  {
   "cell_type": "code",
   "execution_count": null,
   "metadata": {
    "collapsed": false
   },
   "outputs": [],
   "source": [
    "'''\n",
    "ks = [x for x in xrange(1,X.shape[1])]\n",
    "# RANDOM SEARCH\n",
    "for i in xrange(20):\n",
    "    k = np.random.choice(ks)\n",
    "    skb = SelectKBest(k=k)\n",
    "    skb = skb.fit(X_train,y_train.ravel())\n",
    "    skb_X_train = skb.transform(X_train)\n",
    "    \n",
    "    clf = GaussianNB()\n",
    "    clf.fit(skb_X_train,y_train.ravel())\n",
    "    \n",
    "    skb_X_validation = skb.transform(X_validation)\n",
    "    print \"k =\", k, \"score:\", clf.score(skb_X_validation,y_validation.ravel())\n",
    "#'''"
   ]
  },
  {
   "cell_type": "code",
   "execution_count": null,
   "metadata": {
    "collapsed": false
   },
   "outputs": [],
   "source": [
    "'''\n",
    "ks = [x for x in xrange(1,X.shape[1])]\n",
    "criteria = ['gini', 'entropy']\n",
    "splitters = ['best', 'random']\n",
    "max_feats = ['auto', 'sqrt', 'log2', None]\n",
    "class_weights = ['auto', None]\n",
    "# RANDOM SEARCH\n",
    "for i in xrange(20):\n",
    "    k = np.random.choice(ks)\n",
    "    skb = SelectKBest(k=k)\n",
    "    skb = skb.fit(X_train,y_train.ravel())\n",
    "    skb_X_train = skb.transform(X_train)\n",
    "    \n",
    "    criterion = np.random.choice(criteria)\n",
    "    splitter = np.random.choice(splitters)\n",
    "    max_features = np.random.choice(max_feats)\n",
    "    class_weight = np.random.choice(class_weights)\n",
    "    \n",
    "    clf = DecisionTreeClassifier(criterion=criterion, splitter=splitter, max_depth=None, min_samples_split=2, min_samples_leaf=1, min_weight_fraction_leaf=0.0, max_features=max_features, random_state=42, max_leaf_nodes=None, class_weight=class_weight)\n",
    "    clf.fit(skb_X_train,y_train.ravel())\n",
    "    \n",
    "    skb_X_validation = skb.transform(X_validation)\n",
    "    print \"k =\", k, \"criterion =\", criterion, \"splitter =\", splitter, \"max_features =\", max_features, \"class_weight =\", class_weight, \"score:\", clf.score(skb_X_validation,y_validation.ravel())\n",
    "#'''"
   ]
  },
  {
   "cell_type": "code",
   "execution_count": null,
   "metadata": {
    "collapsed": false
   },
   "outputs": [],
   "source": [
    "#'''\n",
    "ks = [x for x in xrange(1,X.shape[1])]\n",
    "Cs = [2**x for x in xrange(-15, 20, 5)]\n",
    "gammas = [2**x for x in xrange(-15, 20, 5)]\n",
    "# RANDOM SEARCH\n",
    "for i in xrange(20):\n",
    "    k = np.random.choice(ks)\n",
    "    skb = SelectKBest(k=k)\n",
    "    skb = skb.fit(X_train,y_train.ravel())\n",
    "    skb_X_train = skb.transform(X_train)\n",
    "    \n",
    "    C = np.random.choice(Cs)\n",
    "    gamma = 2**-10\n",
    "    clf = SVC(C=C, cache_size=200, class_weight='auto', coef0=0.0, degree=3, gamma=gamma, kernel='rbf', max_iter=-1, probability=False, random_state=42, shrinking=True, tol=0.001, verbose=False)\n",
    "    clf.fit(skb_X_train,y_train.ravel())\n",
    "    \n",
    "    skb_X_validation = skb.transform(X_validation)\n",
    "    print \"k =\", k, \"C =\", C, \"gamma =\", gamma, \"score:\", clf.score(skb_X_validation,y_validation.ravel())\n",
    "#'''"
   ]
  },
  {
   "cell_type": "markdown",
   "metadata": {},
   "source": [
    "---"
   ]
  },
  {
   "cell_type": "code",
   "execution_count": null,
   "metadata": {
    "collapsed": true
   },
   "outputs": [],
   "source": [
    "X_test = scaler.transform(X_test)"
   ]
  },
  {
   "cell_type": "code",
   "execution_count": null,
   "metadata": {
    "collapsed": false
   },
   "outputs": [],
   "source": [
    "'''\n",
    "skb = SelectKBest(k=29)\n",
    "skb = skb.fit(X_train,y_train.ravel())\n",
    "skb_X_train = skb.transform(X_train)\n",
    "\n",
    "skb_X_test = skb.transform(X_test)\n",
    "\n",
    "clf = GaussianNB()\n",
    "clf.fit(skb_X_train,y_train.ravel())\n",
    "clf.score(skb_X_test,y_test.ravel())\n",
    "#'''"
   ]
  },
  {
   "cell_type": "code",
   "execution_count": null,
   "metadata": {
    "collapsed": false
   },
   "outputs": [],
   "source": [
    "'''\n",
    "skb = SelectKBest(k=53)\n",
    "skb = skb.fit(X_train,y_train.ravel())\n",
    "skb_X_train = skb.transform(X_train)\n",
    "\n",
    "skb_X_test = skb.transform(X_test)\n",
    "\n",
    "clf = DecisionTreeClassifier(criterion='entropy', splitter='best', max_depth=None, min_samples_split=2, min_samples_leaf=1, min_weight_fraction_leaf=0.0, max_features='auto', random_state=42, max_leaf_nodes=None, class_weight='auto')\n",
    "clf.fit(skb_X_train,y_train.ravel())\n",
    "clf.score(skb_X_test,y_test.ravel())\n",
    "#'''"
   ]
  },
  {
   "cell_type": "code",
   "execution_count": null,
   "metadata": {
    "collapsed": false
   },
   "outputs": [],
   "source": [
    "#'''\n",
    "skb = SelectKBest(k=66)\n",
    "skb = skb.fit(X_train,y_train.ravel())\n",
    "skb_X_train = skb.transform(X_train)\n",
    "\n",
    "skb_X_test = skb.transform(X_test)\n",
    "\n",
    "clf = SVC(C=2**5, cache_size=200, class_weight='auto', coef0=0.0, degree=3, gamma=2**-10, kernel='rbf', max_iter=-1, probability=True, random_state=42, shrinking=True, tol=0.001, verbose=False)\n",
    "clf.fit(skb_X_train,y_train.ravel())\n",
    "clf.score(skb_X_test,y_test.ravel())\n",
    "#'''"
   ]
  },
  {
   "cell_type": "code",
   "execution_count": null,
   "metadata": {
    "collapsed": false
   },
   "outputs": [],
   "source": [
    "print classification_report(y_test, clf.predict(skb_X_test))"
   ]
  },
  {
   "cell_type": "code",
   "execution_count": null,
   "metadata": {
    "collapsed": false
   },
   "outputs": [],
   "source": [
    "for i in xrange(X_df.columns.shape[0]):\n",
    "    if np.round(skb.scores_[i], 1) > 50:\n",
    "        print X_df.columns[i], np.round(skb.scores_[i], 1)"
   ]
  },
  {
   "cell_type": "markdown",
   "metadata": {},
   "source": [
    "---"
   ]
  },
  {
   "cell_type": "code",
   "execution_count": null,
   "metadata": {
    "collapsed": false
   },
   "outputs": [],
   "source": [
    "pred_df = GQ_prediction_df[GQ_prediction_df['label_x'].apply(np.isnan) == True]\n",
    "pred_df = pred_df.drop(['label_x','label_y','date'], axis=1)\n",
    "pred_df = pred_df.dropna()\n",
    "pred_tickers = pred_df['ticker'].unique()"
   ]
  },
  {
   "cell_type": "code",
   "execution_count": null,
   "metadata": {
    "collapsed": false
   },
   "outputs": [],
   "source": [
    "pred_df['ticker'] = pred_df['ticker'].astype('category').cat.codes\n",
    "pred_X = pred_df.values\n",
    "pred_X = scaler.transform(pred_X)\n",
    "pred_X = skb.transform(pred_X)\n",
    "pred_X.shape"
   ]
  },
  {
   "cell_type": "code",
   "execution_count": null,
   "metadata": {
    "collapsed": false
   },
   "outputs": [],
   "source": [
    "X_probabilities = clf.predict_proba(pred_X)\n",
    "positive_tickers = []\n",
    "for i in xrange(pred_X.shape[0]):\n",
    "    print i, pred_tickers[i], clf.predict(pred_X[i]), X_probabilities[i], \"<--\" if X_probabilities[i][1] > 0.85 else ''\n",
    "    if X_probabilities[i][1] >= 0.7:\n",
    "        positive_tickers.append(pred_tickers[i])"
   ]
  },
  {
   "cell_type": "code",
   "execution_count": null,
   "metadata": {
    "collapsed": false
   },
   "outputs": [],
   "source": [
    "for ticker in positive_tickers:\n",
    "    \n",
    "    past_days = 100\n",
    "    \n",
    "    oc = GQ_prediction_df[GQ_prediction_df['ticker'] == ticker][\"OC%\"][-past_days:]\n",
    "    \n",
    "    num_days = oc.shape[0]\n",
    "    \n",
    "    day_range = np.arange(num_days)\n",
    "    \n",
    "    plt.plot(day_range, oc, alpha=0.5)\n",
    "    plt.plot(day_range, [0.05 for x in day_range], color='r')\n",
    "    plt.title(\"{0} (previous {1} days)\".format(ticker, num_days))\n",
    "    plt.show()\n",
    "\n",
    "    print \"\\t\", ticker, \"{}-day freq probability:\".format(past_days), np.true_divide(np.sum(oc.values > 0.05), past_days)\n",
    "    print \"~\"*50, \"\\n\"  "
   ]
  }
 ],
 "metadata": {
  "kernelspec": {
   "display_name": "Python 2",
   "language": "python",
   "name": "python2"
  },
  "language_info": {
   "codemirror_mode": {
    "name": "ipython",
    "version": 2
   },
   "file_extension": ".py",
   "mimetype": "text/x-python",
   "name": "python",
   "nbconvert_exporter": "python",
   "pygments_lexer": "ipython2",
   "version": "2.7.10"
  }
 },
 "nbformat": 4,
 "nbformat_minor": 0
}
