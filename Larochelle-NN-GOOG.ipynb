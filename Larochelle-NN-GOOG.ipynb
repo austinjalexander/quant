{
 "cells": [
  {
   "cell_type": "code",
   "execution_count": 1,
   "metadata": {
    "collapsed": false
   },
   "outputs": [
    {
     "name": "stdout",
     "output_type": "stream",
     "text": [
      "(1171, 86) (1171, 1)\n"
     ]
    },
    {
     "data": {
      "text/html": [
       "<div style=\"max-height:1000px;max-width:1500px;overflow:auto;\">\n",
       "<table border=\"1\" class=\"dataframe\">\n",
       "  <thead>\n",
       "    <tr style=\"text-align: right;\">\n",
       "      <th></th>\n",
       "      <th>10.0-CLOSE</th>\n",
       "      <th>10.0-HIGH</th>\n",
       "      <th>10.0-LOW</th>\n",
       "      <th>10.0-OPEN</th>\n",
       "      <th>10.0-VOLUME</th>\n",
       "      <th>10.0-op_cl%</th>\n",
       "      <th>10.0-lo_hi%</th>\n",
       "      <th>10.3-CLOSE</th>\n",
       "      <th>10.3-HIGH</th>\n",
       "      <th>10.3-LOW</th>\n",
       "      <th>...</th>\n",
       "      <th>15.0-lo_hi%</th>\n",
       "      <th>15.3-CLOSE</th>\n",
       "      <th>15.3-HIGH</th>\n",
       "      <th>15.3-LOW</th>\n",
       "      <th>15.3-OPEN</th>\n",
       "      <th>15.3-VOLUME</th>\n",
       "      <th>15.3-op_cl%</th>\n",
       "      <th>15.3-lo_hi%</th>\n",
       "      <th>ticker</th>\n",
       "      <th>week_day</th>\n",
       "    </tr>\n",
       "  </thead>\n",
       "  <tbody>\n",
       "    <tr>\n",
       "      <th>0</th>\n",
       "      <td>7.0900</td>\n",
       "      <td>7.6000</td>\n",
       "      <td>7.0505</td>\n",
       "      <td>7.600</td>\n",
       "      <td>9525</td>\n",
       "      <td>-0.067105</td>\n",
       "      <td>0.077938</td>\n",
       "      <td>7.018</td>\n",
       "      <td>7.1100</td>\n",
       "      <td>6.9501</td>\n",
       "      <td>...</td>\n",
       "      <td>0.005755</td>\n",
       "      <td>6.91</td>\n",
       "      <td>6.950</td>\n",
       "      <td>6.9000</td>\n",
       "      <td>6.94</td>\n",
       "      <td>7828</td>\n",
       "      <td>-0.004323</td>\n",
       "      <td>0.007246</td>\n",
       "      <td>76</td>\n",
       "      <td>2</td>\n",
       "    </tr>\n",
       "    <tr>\n",
       "      <th>0</th>\n",
       "      <td>6.7900</td>\n",
       "      <td>6.9600</td>\n",
       "      <td>6.7800</td>\n",
       "      <td>6.960</td>\n",
       "      <td>10002</td>\n",
       "      <td>-0.024425</td>\n",
       "      <td>0.026549</td>\n",
       "      <td>6.681</td>\n",
       "      <td>6.8300</td>\n",
       "      <td>6.6000</td>\n",
       "      <td>...</td>\n",
       "      <td>0.008156</td>\n",
       "      <td>6.62</td>\n",
       "      <td>6.690</td>\n",
       "      <td>6.5600</td>\n",
       "      <td>6.58</td>\n",
       "      <td>13700</td>\n",
       "      <td>0.006079</td>\n",
       "      <td>0.019817</td>\n",
       "      <td>76</td>\n",
       "      <td>3</td>\n",
       "    </tr>\n",
       "    <tr>\n",
       "      <th>0</th>\n",
       "      <td>6.6500</td>\n",
       "      <td>6.6800</td>\n",
       "      <td>6.4600</td>\n",
       "      <td>6.680</td>\n",
       "      <td>15827</td>\n",
       "      <td>-0.004491</td>\n",
       "      <td>0.034056</td>\n",
       "      <td>6.730</td>\n",
       "      <td>6.9396</td>\n",
       "      <td>6.7001</td>\n",
       "      <td>...</td>\n",
       "      <td>0.039802</td>\n",
       "      <td>6.55</td>\n",
       "      <td>6.576</td>\n",
       "      <td>6.5500</td>\n",
       "      <td>6.57</td>\n",
       "      <td>5300</td>\n",
       "      <td>-0.003044</td>\n",
       "      <td>0.003969</td>\n",
       "      <td>76</td>\n",
       "      <td>4</td>\n",
       "    </tr>\n",
       "    <tr>\n",
       "      <th>0</th>\n",
       "      <td>5.8884</td>\n",
       "      <td>6.3120</td>\n",
       "      <td>5.6300</td>\n",
       "      <td>6.312</td>\n",
       "      <td>73120</td>\n",
       "      <td>-0.067110</td>\n",
       "      <td>0.121137</td>\n",
       "      <td>6.300</td>\n",
       "      <td>6.3000</td>\n",
       "      <td>5.8600</td>\n",
       "      <td>...</td>\n",
       "      <td>0.019640</td>\n",
       "      <td>6.26</td>\n",
       "      <td>6.275</td>\n",
       "      <td>6.2186</td>\n",
       "      <td>6.23</td>\n",
       "      <td>11000</td>\n",
       "      <td>0.004815</td>\n",
       "      <td>0.009070</td>\n",
       "      <td>76</td>\n",
       "      <td>0</td>\n",
       "    </tr>\n",
       "    <tr>\n",
       "      <th>0</th>\n",
       "      <td>6.2700</td>\n",
       "      <td>6.4185</td>\n",
       "      <td>6.2236</td>\n",
       "      <td>6.400</td>\n",
       "      <td>15617</td>\n",
       "      <td>-0.020313</td>\n",
       "      <td>0.031316</td>\n",
       "      <td>6.210</td>\n",
       "      <td>6.2700</td>\n",
       "      <td>6.2000</td>\n",
       "      <td>...</td>\n",
       "      <td>0.009479</td>\n",
       "      <td>6.29</td>\n",
       "      <td>6.410</td>\n",
       "      <td>6.2700</td>\n",
       "      <td>6.41</td>\n",
       "      <td>3500</td>\n",
       "      <td>-0.018721</td>\n",
       "      <td>0.022329</td>\n",
       "      <td>76</td>\n",
       "      <td>1</td>\n",
       "    </tr>\n",
       "  </tbody>\n",
       "</table>\n",
       "<p>5 rows × 86 columns</p>\n",
       "</div>"
      ],
      "text/plain": [
       "   10.0-CLOSE  10.0-HIGH  10.0-LOW  10.0-OPEN  10.0-VOLUME  10.0-op_cl%  \\\n",
       "0      7.0900     7.6000    7.0505      7.600         9525    -0.067105   \n",
       "0      6.7900     6.9600    6.7800      6.960        10002    -0.024425   \n",
       "0      6.6500     6.6800    6.4600      6.680        15827    -0.004491   \n",
       "0      5.8884     6.3120    5.6300      6.312        73120    -0.067110   \n",
       "0      6.2700     6.4185    6.2236      6.400        15617    -0.020313   \n",
       "\n",
       "   10.0-lo_hi%  10.3-CLOSE  10.3-HIGH  10.3-LOW    ...     15.0-lo_hi%  \\\n",
       "0     0.077938       7.018     7.1100    6.9501    ...        0.005755   \n",
       "0     0.026549       6.681     6.8300    6.6000    ...        0.008156   \n",
       "0     0.034056       6.730     6.9396    6.7001    ...        0.039802   \n",
       "0     0.121137       6.300     6.3000    5.8600    ...        0.019640   \n",
       "0     0.031316       6.210     6.2700    6.2000    ...        0.009479   \n",
       "\n",
       "   15.3-CLOSE  15.3-HIGH  15.3-LOW  15.3-OPEN  15.3-VOLUME  15.3-op_cl%  \\\n",
       "0        6.91      6.950    6.9000       6.94         7828    -0.004323   \n",
       "0        6.62      6.690    6.5600       6.58        13700     0.006079   \n",
       "0        6.55      6.576    6.5500       6.57         5300    -0.003044   \n",
       "0        6.26      6.275    6.2186       6.23        11000     0.004815   \n",
       "0        6.29      6.410    6.2700       6.41         3500    -0.018721   \n",
       "\n",
       "   15.3-lo_hi%  ticker  week_day  \n",
       "0     0.007246      76         2  \n",
       "0     0.019817      76         3  \n",
       "0     0.003969      76         4  \n",
       "0     0.009070      76         0  \n",
       "0     0.022329      76         1  \n",
       "\n",
       "[5 rows x 86 columns]"
      ]
     },
     "execution_count": 1,
     "metadata": {},
     "output_type": "execute_result"
    }
   ],
   "source": [
    "from module_imports import *\n",
    "from download_data import *\n",
    "from import_data import *\n",
    "from larochelle_nn import *\n",
    "\n",
    "%matplotlib inline\n",
    "\n",
    "stock_df, prediction_df = pd.DataFrame(), pd.DataFrame()\n",
    "pred_tickers = []\n",
    "source = \"G\"\n",
    "binarize = True\n",
    "gt = 0\n",
    "lt = 10.0\n",
    "vol = 0\n",
    "if source == \"Q\":\n",
    "    stock_df, prediction_df, pred_tickers = get_quandl_data(binarize=True, gt=gt, lt=lt, vol=vol)\n",
    "elif source == \"G\":\n",
    "    stock_df, prediction_df, pred_tickers = get_goog_data(binarize=True, gt=gt, lt=lt, vol=vol)\n",
    "    \n",
    "Y = stock_df['label'].values\n",
    "Y = Y.reshape(Y.shape[0], 1)\n",
    "\n",
    "X_df = stock_df.drop('label', axis=1)\n",
    "X = X_df.values\n",
    "\n",
    "print X.shape, Y.shape\n",
    "X_df.tail()"
   ]
  },
  {
   "cell_type": "code",
   "execution_count": 2,
   "metadata": {
    "collapsed": false
   },
   "outputs": [
    {
     "name": "stdout",
     "output_type": "stream",
     "text": [
      "10.0-VOLUME 24.9162102623\n",
      "10.0-lo_hi% 2.56053900503\n",
      "10.3-VOLUME 20.3925498401\n",
      "10.3-lo_hi% 3.91202026297\n",
      "11.0-VOLUME 21.9983645053\n",
      "11.0-op_cl% 3.0638695916\n",
      "11.0-lo_hi% 9.9266116519\n",
      "11.3-VOLUME 21.4783313166\n",
      "11.3-lo_hi% 4.44838883245\n",
      "12.0-VOLUME 22.2114664733\n",
      "12.0-op_cl% 6.88517350636\n",
      "12.0-lo_hi% 4.65463125159\n",
      "12.3-VOLUME 33.6161436687\n",
      "12.3-lo_hi% 17.5424812113\n",
      "13.0-VOLUME 30.8420670966\n",
      "13.0-op_cl% 5.28898278845\n",
      "13.0-lo_hi% 13.0560197584\n",
      "13.3-VOLUME 24.4650387527\n",
      "13.3-lo_hi% 8.06588720596\n",
      "14.0-VOLUME 22.2380020095\n",
      "14.0-lo_hi% 2.89876337689\n",
      "14.3-VOLUME 28.5399066471\n",
      "14.3-lo_hi% 4.59682677706\n",
      "15.0-VOLUME 22.9243082361\n",
      "15.0-op_cl% 1.0770410291\n",
      "15.0-lo_hi% 5.18043397089\n",
      "15.3-VOLUME 33.8622827781\n",
      "15.3-lo_hi% 13.7088744098\n",
      "ticker 1.5173116775\n"
     ]
    }
   ],
   "source": [
    "skb = SelectKBest(k=5)\n",
    "skb = skb.fit(X,Y.ravel())\n",
    "for i in xrange(X_df.columns.shape[0]):\n",
    "    if skb.scores_[i] > 1.0:\n",
    "        print X_df.columns[i], skb.scores_[i]\n",
    "        \n",
    "X = skb.transform(X)"
   ]
  },
  {
   "cell_type": "code",
   "execution_count": 3,
   "metadata": {
    "collapsed": false
   },
   "outputs": [],
   "source": [
    "balance_labeled_data = False\n",
    "if balance_labeled_data == True:\n",
    "    # randomly balance labeled data\n",
    "    indices_Y_is_0 = np.where(Y == 0)[0]\n",
    "    print indices_Y_is_0.shape[0]\n",
    "    indices_Y_is_1 = np.where(Y == 1)[0]\n",
    "    print indices_Y_is_1.shape[0]\n",
    "\n",
    "    subset_indices_Y_is_0 = np.random.choice(indices_Y_is_0, indices_Y_is_1.shape[0])\n",
    "    X_is_0 = X[subset_indices_Y_is_0]\n",
    "    Y_is_0 = Y[subset_indices_Y_is_0]\n",
    "    X_is_1 = X[indices_Y_is_1]\n",
    "    Y_is_1 = Y[indices_Y_is_1]\n",
    "\n",
    "    X = np.concatenate((X_is_0,X_is_1))\n",
    "    Y = np.concatenate((Y_is_0,Y_is_1))"
   ]
  },
  {
   "cell_type": "code",
   "execution_count": 4,
   "metadata": {
    "collapsed": false
   },
   "outputs": [
    {
     "data": {
      "image/png": "[encoded data removed]",
      "text/plain": [
       "<matplotlib.figure.Figure at 0x108b60990>"
      ]
     },
     "metadata": {},
     "output_type": "display_data"
    }
   ],
   "source": [
    "plt.hist(Y)\n",
    "plt.show()"
   ]
  },
  {
   "cell_type": "code",
   "execution_count": 5,
   "metadata": {
    "collapsed": false
   },
   "outputs": [],
   "source": [
    "vectorize_label = True\n",
    "if vectorize_label == True:\n",
    "    new_y = []\n",
    "    positives = []\n",
    "    for i in xrange(Y.shape[0]):\n",
    "        if Y[i] == 0:\n",
    "            new_y.append(np.array([[1],[0]]))\n",
    "        elif Y[i] == 1:\n",
    "            new_y.append(np.array([[0],[1]]))\n",
    "    Y = new_y"
   ]
  },
  {
   "cell_type": "code",
   "execution_count": 6,
   "metadata": {
    "collapsed": true
   },
   "outputs": [],
   "source": [
    "X_train, X_vt, y_train, y_vt = train_test_split(X, Y, test_size=0.30, random_state=42)\n",
    "X_validation, X_test, y_validation, y_test = train_test_split(X_vt, y_vt, test_size=0.50, random_state=42)"
   ]
  },
  {
   "cell_type": "code",
   "execution_count": 7,
   "metadata": {
    "collapsed": false
   },
   "outputs": [],
   "source": [
    "scaler = StandardScaler()\n",
    "X_train = scaler.fit_transform(X_train)"
   ]
  },
  {
   "cell_type": "code",
   "execution_count": 8,
   "metadata": {
    "collapsed": false
   },
   "outputs": [],
   "source": [
    "#for x,y in zip(X_train, y_train):\n",
    "#    print x.reshape(x.shape[0],1)\n",
    "#    print y.reshape(y.shape[0],1)\n",
    "#    break"
   ]
  },
  {
   "cell_type": "markdown",
   "metadata": {},
   "source": [
    "---"
   ]
  },
  {
   "cell_type": "code",
   "execution_count": 9,
   "metadata": {
    "collapsed": false,
    "scrolled": true
   },
   "outputs": [],
   "source": [
    "hs = [1, 2, 5, 10, 15, 50, 100]\n",
    "\n",
    "epochs = 100\n",
    "Lambdas = [0.0001, 0.001, 0.01, 0.1, 1.0]\n",
    "Regs = ['L2', 'L1']\n",
    "alphas = [0.0001, 0.001, 0.01, 0.1]\n",
    "\n",
    "# GRID SEARCH\n",
    "#for h in hs:\n",
    "#    for Lambda in Lambdas:\n",
    "#        for Reg in Regs:\n",
    "#            for alpha in alphas:\n",
    "#                NN_SGD(source, binarize, gt, lt, vol, balance_labeled_data, scaler, X_train, y_train, X_validation, y_validation, h, h, epochs, Lambda, Reg, alpha, plot=False)\n",
    "\n",
    "# RANDOM SEARCH\n",
    "for i in xrange(10):\n",
    "    h = np.random.choice(hs)\n",
    "    NN_SGD(source, binarize, gt, lt, vol, balance_labeled_data, scaler, X_train, y_train, X_validation, y_validation, h, h, epochs, np.random.choice(Lambdas), np.random.choice(Regs), np.random.choice(alphas), plot=False)"
   ]
  },
  {
   "cell_type": "markdown",
   "metadata": {},
   "source": [
    "---"
   ]
  },
  {
   "cell_type": "code",
   "execution_count": 10,
   "metadata": {
    "collapsed": true
   },
   "outputs": [],
   "source": [
    "### COMBINE GOOG AND QUANDL -> get yesterday's data and today's data (inlcuding roll avg)"
   ]
  }
 ],
 "metadata": {
  "kernelspec": {
   "display_name": "Python 2",
   "language": "python",
   "name": "python2"
  },
  "language_info": {
   "codemirror_mode": {
    "name": "ipython",
    "version": 2
   },
   "file_extension": ".py",
   "mimetype": "text/x-python",
   "name": "python",
   "nbconvert_exporter": "python",
   "pygments_lexer": "ipython2",
   "version": "2.7.10"
  }
 },
 "nbformat": 4,
 "nbformat_minor": 0
}
