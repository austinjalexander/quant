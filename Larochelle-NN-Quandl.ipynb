{
 "cells": [
  {
   "cell_type": "code",
   "execution_count": 32,
   "metadata": {
    "collapsed": false
   },
   "outputs": [
    {
     "name": "stdout",
     "output_type": "stream",
     "text": [
      "(179018, 10) (179018, 1) <type 'numpy.ndarray'> <type 'numpy.ndarray'>\n"
     ]
    },
    {
     "data": {
      "text/html": [
       "<div style=\"max-height:1000px;max-width:1500px;overflow:auto;\">\n",
       "<table border=\"1\" class=\"dataframe\">\n",
       "  <thead>\n",
       "    <tr style=\"text-align: right;\">\n",
       "      <th></th>\n",
       "      <th>200dravg</th>\n",
       "      <th>50dravg</th>\n",
       "      <th>Close</th>\n",
       "      <th>HL%</th>\n",
       "      <th>High</th>\n",
       "      <th>Low</th>\n",
       "      <th>OC%</th>\n",
       "      <th>Open</th>\n",
       "      <th>Volume</th>\n",
       "      <th>ticker</th>\n",
       "    </tr>\n",
       "  </thead>\n",
       "  <tbody>\n",
       "    <tr>\n",
       "      <th>824</th>\n",
       "      <td>7.03935</td>\n",
       "      <td>8.4868</td>\n",
       "      <td>6.66</td>\n",
       "      <td>0.060976</td>\n",
       "      <td>6.96</td>\n",
       "      <td>6.56</td>\n",
       "      <td>-0.029155</td>\n",
       "      <td>6.86</td>\n",
       "      <td>121400</td>\n",
       "      <td>78</td>\n",
       "    </tr>\n",
       "    <tr>\n",
       "      <th>825</th>\n",
       "      <td>7.03830</td>\n",
       "      <td>8.4550</td>\n",
       "      <td>6.56</td>\n",
       "      <td>0.074303</td>\n",
       "      <td>6.94</td>\n",
       "      <td>6.46</td>\n",
       "      <td>-0.017964</td>\n",
       "      <td>6.68</td>\n",
       "      <td>166700</td>\n",
       "      <td>78</td>\n",
       "    </tr>\n",
       "    <tr>\n",
       "      <th>826</th>\n",
       "      <td>7.03650</td>\n",
       "      <td>8.4026</td>\n",
       "      <td>6.20</td>\n",
       "      <td>0.120782</td>\n",
       "      <td>6.31</td>\n",
       "      <td>5.63</td>\n",
       "      <td>-0.009585</td>\n",
       "      <td>6.26</td>\n",
       "      <td>229200</td>\n",
       "      <td>78</td>\n",
       "    </tr>\n",
       "    <tr>\n",
       "      <th>827</th>\n",
       "      <td>7.03310</td>\n",
       "      <td>8.3398</td>\n",
       "      <td>6.12</td>\n",
       "      <td>0.084437</td>\n",
       "      <td>6.55</td>\n",
       "      <td>6.04</td>\n",
       "      <td>-0.045242</td>\n",
       "      <td>6.41</td>\n",
       "      <td>150200</td>\n",
       "      <td>78</td>\n",
       "    </tr>\n",
       "    <tr>\n",
       "      <th>828</th>\n",
       "      <td>7.02610</td>\n",
       "      <td>8.2666</td>\n",
       "      <td>6.24</td>\n",
       "      <td>0.067797</td>\n",
       "      <td>6.30</td>\n",
       "      <td>5.90</td>\n",
       "      <td>-0.001600</td>\n",
       "      <td>6.25</td>\n",
       "      <td>121300</td>\n",
       "      <td>78</td>\n",
       "    </tr>\n",
       "  </tbody>\n",
       "</table>\n",
       "</div>"
      ],
      "text/plain": [
       "     200dravg  50dravg  Close       HL%  High   Low       OC%  Open  Volume  \\\n",
       "824   7.03935   8.4868   6.66  0.060976  6.96  6.56 -0.029155  6.86  121400   \n",
       "825   7.03830   8.4550   6.56  0.074303  6.94  6.46 -0.017964  6.68  166700   \n",
       "826   7.03650   8.4026   6.20  0.120782  6.31  5.63 -0.009585  6.26  229200   \n",
       "827   7.03310   8.3398   6.12  0.084437  6.55  6.04 -0.045242  6.41  150200   \n",
       "828   7.02610   8.2666   6.24  0.067797  6.30  5.90 -0.001600  6.25  121300   \n",
       "\n",
       "     ticker  \n",
       "824      78  \n",
       "825      78  \n",
       "826      78  \n",
       "827      78  \n",
       "828      78  "
      ]
     },
     "execution_count": 32,
     "metadata": {},
     "output_type": "execute_result"
    }
   ],
   "source": [
    "from module_imports import *\n",
    "from download_data import *\n",
    "from import_data import *\n",
    "from larochelle_nn import *\n",
    "\n",
    "%matplotlib inline\n",
    "\n",
    "#download_quandl()\n",
    "\n",
    "stock_df, prediction_df = pd.DataFrame(), pd.DataFrame()\n",
    "pred_tickers = []\n",
    "source = \"Q\"\n",
    "binarize = True\n",
    "gt = 1.0\n",
    "lt = 50.0\n",
    "vol = 10000\n",
    "if source == \"Q\":\n",
    "    stock_df, prediction_df, pred_tickers = get_quandl_data(binarize=True, gt=gt, lt=lt, vol=vol)\n",
    "elif source == \"G\":\n",
    "    stock_df, prediction_df = get_goog_data(binarize=True, gt=gt, lt=lt, vol=vol)\n",
    "    \n",
    "Y = stock_df['label'].values\n",
    "Y = Y.reshape(Y.shape[0], 1)\n",
    "\n",
    "X_df = stock_df.drop(['label','date'], axis=1)\n",
    "X = X_df.values\n",
    "\n",
    "print X.shape, Y.shape, type(X), type(Y)\n",
    "X_df.tail()"
   ]
  },
  {
   "cell_type": "code",
   "execution_count": 33,
   "metadata": {
    "collapsed": false
   },
   "outputs": [
    {
     "name": "stdout",
     "output_type": "stream",
     "text": [
      "200dravg 492.660860149\n",
      "50dravg 694.180496509\n",
      "Close 823.161574122\n",
      "HL% 1506.0673895\n",
      "High 778.982309615\n",
      "Low 877.65300011\n",
      "OC% 3.76770803312\n",
      "Open 827.282325918\n",
      "Volume 3.06063572212\n"
     ]
    }
   ],
   "source": [
    "skb = SelectKBest(k='all')\n",
    "skb = skb.fit(X,Y.ravel())\n",
    "for i in xrange(X_df.columns.shape[0]):\n",
    "    if skb.scores_[i] > 1.0:\n",
    "        print X_df.columns[i], skb.scores_[i]\n",
    "        \n",
    "X = skb.transform(X)"
   ]
  },
  {
   "cell_type": "code",
   "execution_count": 34,
   "metadata": {
    "collapsed": false
   },
   "outputs": [],
   "source": [
    "balance_labeled_data = False\n",
    "if balance_labeled_data == True:\n",
    "    # randomly balance labeled data\n",
    "    indices_Y_is_0 = np.where(Y == 0)[0]\n",
    "    print indices_Y_is_0.shape[0]\n",
    "    indices_Y_is_1 = np.where(Y == 1)[0]\n",
    "    print indices_Y_is_1.shape[0]\n",
    "\n",
    "    subset_indices_Y_is_0 = np.random.choice(indices_Y_is_0, indices_Y_is_1.shape[0])\n",
    "    X_is_0 = X[subset_indices_Y_is_0]\n",
    "    Y_is_0 = Y[subset_indices_Y_is_0]\n",
    "    X_is_1 = X[indices_Y_is_1]\n",
    "    Y_is_1 = Y[indices_Y_is_1]\n",
    "\n",
    "    X = np.concatenate((X_is_0,X_is_1))\n",
    "    Y = np.concatenate((Y_is_0,Y_is_1))"
   ]
  },
  {
   "cell_type": "code",
   "execution_count": 35,
   "metadata": {
    "collapsed": false
   },
   "outputs": [],
   "source": [
    "# randomly subset data\n",
    "indices = np.random.randint(low=0,high=X.shape[0],size=(X.shape[0]/30))\n",
    "X = X[indices]\n",
    "Y = Y[indices]"
   ]
  },
  {
   "cell_type": "code",
   "execution_count": 36,
   "metadata": {
    "collapsed": false
   },
   "outputs": [
    {
     "name": "stdout",
     "output_type": "stream",
     "text": [
      "(5967, 10) (5967, 1) <type 'numpy.ndarray'> <type 'numpy.ndarray'>\n"
     ]
    },
    {
     "data": {
      "image/png": "[encoded data removed]",
      "text/plain": [
       "<matplotlib.figure.Figure at 0x108598a50>"
      ]
     },
     "metadata": {},
     "output_type": "display_data"
    }
   ],
   "source": [
    "print X.shape, Y.shape, type(X), type(Y)\n",
    "plt.hist(Y)\n",
    "plt.show()"
   ]
  },
  {
   "cell_type": "code",
   "execution_count": 37,
   "metadata": {
    "collapsed": false
   },
   "outputs": [
    {
     "name": "stdout",
     "output_type": "stream",
     "text": [
      "(5967, 10) 5967 <type 'numpy.ndarray'> <type 'list'>\n"
     ]
    }
   ],
   "source": [
    "vectorize_label = True\n",
    "if vectorize_label == True:\n",
    "    new_y = []\n",
    "    positives = []\n",
    "    for i in xrange(Y.shape[0]):\n",
    "        if Y[i] == 0:\n",
    "            new_y.append(np.array([[1],[0]]))\n",
    "        elif Y[i] == 1:\n",
    "            new_y.append(np.array([[0],[1]]))\n",
    "    Y = new_y\n",
    "    \n",
    "print X.shape, len(Y), type(X), type(Y)"
   ]
  },
  {
   "cell_type": "code",
   "execution_count": 38,
   "metadata": {
    "collapsed": true
   },
   "outputs": [],
   "source": [
    "X_train, X_vt, y_train, y_vt = train_test_split(X, Y, test_size=0.30, random_state=42)\n",
    "X_validation, X_test, y_validation, y_test = train_test_split(X_vt, y_vt, test_size=0.50, random_state=42)"
   ]
  },
  {
   "cell_type": "code",
   "execution_count": 39,
   "metadata": {
    "collapsed": false
   },
   "outputs": [],
   "source": [
    "scaler = StandardScaler()\n",
    "X_train = scaler.fit_transform(X_train)"
   ]
  },
  {
   "cell_type": "code",
   "execution_count": 40,
   "metadata": {
    "collapsed": false
   },
   "outputs": [],
   "source": [
    "#for x,y in zip(X_train, y_train):\n",
    "#    print x.reshape(x.shape[0],1)\n",
    "#    print y.reshape(y.shape[0],1)\n",
    "#    break"
   ]
  },
  {
   "cell_type": "markdown",
   "metadata": {},
   "source": [
    "---"
   ]
  },
  {
   "cell_type": "code",
   "execution_count": 41,
   "metadata": {
    "collapsed": false,
    "scrolled": true
   },
   "outputs": [],
   "source": [
    "hs = [1, 2, 3, 4, 5, 10, 15]\n",
    "\n",
    "epochs = 20\n",
    "Lambdas = [0.0001, 0.001, 0.01, 0.1, 1.0]\n",
    "Regs = ['L2', 'L1']\n",
    "alphas = [0.0001, 0.001, 0.01, 0.1]\n",
    "\n",
    "# GRID SEARCH\n",
    "#for h in hs:\n",
    "#    for Lambda in Lambdas:\n",
    "#        for Reg in Regs:\n",
    "#            for alpha in alphas:\n",
    "#                NN_SGD(source, binarize, gt, lt, vol, balance_labeled_data, scaler, X_train, y_train, X_validation, y_validation, h, h, epochs, Lambda, Reg, alpha, plot=False)\n",
    "\n",
    "# RANDOM SEARCH\n",
    "for i in xrange(10):\n",
    "    h = np.random.choice(hs)\n",
    "    NN_SGD(source, binarize, gt, lt, vol, balance_labeled_data, scaler, X_train, y_train, X_validation, y_validation, h, h, epochs, np.random.choice(Lambdas), np.random.choice(Regs), np.random.choice(alphas), plot=False)"
   ]
  },
  {
   "cell_type": "markdown",
   "metadata": {},
   "source": [
    "---"
   ]
  }
 ],
 "metadata": {
  "kernelspec": {
   "display_name": "Python 2",
   "language": "python",
   "name": "python2"
  }
 },
 "nbformat": 4,
 "nbformat_minor": 0
}
