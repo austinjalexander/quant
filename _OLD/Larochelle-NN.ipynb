{
 "cells": [
  {
   "cell_type": "code",
   "execution_count": 10,
   "metadata": {
    "collapsed": false
   },
   "outputs": [],
   "source": [
    "from module_imports import *\n",
    "from download_data import *\n",
    "from import_data import *\n",
    "from larochelle_nn import *\n",
    "\n",
    "%matplotlib inline\n",
    "\n",
    "Q_stock_df, Q_prediction_df, Q_pred_tickers = get_quandl_data()\n",
    "G_stock_df, G_prediction_df, G_pred_tickers = get_goog_data()\n",
    "\n",
    "GQ_df = pd.merge(Q_stock_df, G_stock_df, how='outer', on=['ticker', 'date']).dropna()\n",
    "GQ_df = GQ_df[GQ_df['label_x'] == GQ_df['label_y']]\n",
    "\n",
    "GQ_prediction_df = pd.merge(Q_prediction_df, G_prediction_df, how='outer', on=['ticker', 'date'])"
   ]
  },
  {
   "cell_type": "markdown",
   "metadata": {},
   "source": [
    "---"
   ]
  },
  {
   "cell_type": "markdown",
   "metadata": {},
   "source": [
    "---"
   ]
  },
  {
   "cell_type": "code",
   "execution_count": 12,
   "metadata": {
    "collapsed": false
   },
   "outputs": [
    {
     "name": "stdout",
     "output_type": "stream",
     "text": [
      "Testing Loss: 1.76666666667\n"
     ]
    },
    {
     "data": {
      "image/png": "[encoded data removed]",
      "text/plain": [
       "<matplotlib.figure.Figure at 0x1183899d0>"
      ]
     },
     "metadata": {},
     "output_type": "display_data"
    }
   ],
   "source": [
    "def loss(f_x,y):\n",
    "    i = np.where(y == 1)[0][0]\n",
    "    return -np.log(f_x[i]) # negative log-likelihood\n",
    "\n",
    "def forward_prop(x, W1, b1, W2, b2, W3, b3):\n",
    "    def sigm(z):\n",
    "        return 1/(1+np.exp(-z))\n",
    "\n",
    "    def softmax(z):\n",
    "        return np.exp(z)/np.sum(np.exp(z))\n",
    "\n",
    "    z1 = b1 + np.dot(W1,x)\n",
    "    a1 = sigm(z1)\n",
    "\n",
    "    z2 = b2 + np.dot(W2,a1)\n",
    "    a2 = sigm(z2)\n",
    "\n",
    "    z3 = b3 + np.dot(W3,a2)\n",
    "    a3 = softmax(z3)\n",
    "\n",
    "    f_x = a3\n",
    "    return z1, a1, z2, a2, z3, a3, f_x\n",
    "\n",
    "testing_losses = []\n",
    "# testing\n",
    "for x,y in zip(X_test, y_test):\n",
    "\n",
    "    x = scaler.transform(x)\n",
    "    x = x.reshape(x.shape[0],1)\n",
    "    y = y.reshape(y.shape[0],1)\n",
    "\n",
    "    z1, a1, z2, a2, z3, a3, f_x = forward_prop(x, W[0], b[0], W[1], b[1], W[2], b[2])\n",
    "\n",
    "    testing_loss = np.round(loss(f_x,y),2)\n",
    "    testing_losses.append(testing_loss)\n",
    "    \n",
    "print \"Mean Testing Loss:\", np.mean(testing_losses)\n",
    "      \n",
    "plt.plot(testing_losses)\n",
    "plt.ylabel('Loss')\n",
    "plt.show()"
   ]
  },
  {
   "cell_type": "code",
   "execution_count": 13,
   "metadata": {
    "collapsed": false
   },
   "outputs": [],
   "source": []
  },
  {
   "cell_type": "code",
   "execution_count": 18,
   "metadata": {
    "collapsed": false
   },
   "outputs": [
    {
     "name": "stdout",
     "output_type": "stream",
     "text": [
      " 0 ACOR [ 0.99488497] [ 0.00511503]\n",
      " 1 AERI [ 0.99488497] [ 0.00511503]\n",
      " 2 AFFX [ 0.99488497] [ 0.00511503]\n",
      " 3 AGEN [ 0.99488497] [ 0.00511503]\n",
      " 4 ARIA [ 0.99488497] [ 0.00511503]\n",
      " 5 ARNA [ 0.99488497] [ 0.00511503]\n",
      " 6 ARWR [ 0.99488497] [ 0.00511503]\n",
      " 7 AXDX [ 0.99488497] [ 0.00511503]\n",
      " 8 BABY [ 0.99488497] [ 0.00511503]\n",
      " 9 BCRX [ 0.99488497] [ 0.00511503]\n",
      "10 BIIB [ 0.99488497] [ 0.00511503]\n",
      "11 BLUE [ 0.99488497] [ 0.00511503]\n",
      "12 BRKR [ 0.99488497] [ 0.00511503]\n",
      "13 CBPO [ 0.99488497] [ 0.00511503]\n",
      "14 CLDN [ 0.99488497] [ 0.00511503]\n",
      "15 CLDX [ 0.99488497] [ 0.00511503]\n",
      "16 CNMD [ 0.99488497] [ 0.00511503]\n",
      "17 CPHD [ 0.99488497] [ 0.00511503]\n",
      "18 CPRX [ 0.99488497] [ 0.00511503]\n",
      "19 CRIS [ 0.99488497] [ 0.00511503]\n",
      "20 CYBX [ 0.99488497] [ 0.00511503]\n",
      "21 CYNO [ 0.99488497] [ 0.00511503]\n",
      "22 CYTR [ 0.99488497] [ 0.00511503]\n",
      "23 DSCO [ 0.99488497] [ 0.00511503]\n",
      "24 DYAX [ 0.99488497] [ 0.00511503]\n",
      "25 ECYT [ 0.99488497] [ 0.00511503]\n",
      "26 ENZN [ 0.99488497] [ 0.00511503]\n",
      "27 EXAS [ 0.99488497] [ 0.00511503]\n",
      "28 EXEL [ 0.99488497] [ 0.00511503]\n",
      "29 FATE [ 0.99488497] [ 0.00511503]\n",
      "30 FEIC [ 0.99488497] [ 0.00511503]\n",
      "31 FLDM [ 0.99488497] [ 0.00511503]\n",
      "32 GILD [ 0.99488497] [ 0.00511503]\n",
      "33 GNCA [ 0.99488497] [ 0.00511503]\n",
      "34 HALO [ 0.99488497] [ 0.00511503]\n",
      "35 IART [ 0.99488497] [ 0.00511503]\n",
      "36 IDRA [ 0.99488497] [ 0.00511503]\n",
      "37 IDXX [ 0.99488497] [ 0.00511503]\n",
      "38 ILMN [ 0.99488497] [ 0.00511503]\n",
      "39 IMMU [ 0.99488497] [ 0.00511503]\n",
      "40 INCY [ 0.99488497] [ 0.00511503]\n",
      "41  INO [ 0.99488497] [ 0.00511503]\n",
      "42 LPCN [ 0.99488497] [ 0.00511503]\n",
      "43 MEIP [ 0.99488497] [ 0.00511503]\n",
      "44 MNKD [ 0.99488497] [ 0.00511503]\n",
      "45 OREX [ 0.99488497] [ 0.00511503]\n",
      "46 PGNX [ 0.99488497] [ 0.00511503]\n",
      "47 RMTI [ 0.99488497] [ 0.00511503]\n",
      "48 SGYP [ 0.99488497] [ 0.00511503]\n",
      "49 THLD [ 0.99488497] [ 0.00511503]\n",
      "50 TNXP [ 0.99488497] [ 0.00511503]\n"
     ]
    }
   ],
   "source": []
  }
 ],
 "metadata": {
  "kernelspec": {
   "display_name": "Python 2",
   "language": "python",
   "name": "python2"
  },
  "language_info": {
   "codemirror_mode": {
    "name": "ipython",
    "version": 2
   },
   "file_extension": ".py",
   "mimetype": "text/x-python",
   "name": "python",
   "nbconvert_exporter": "python",
   "pygments_lexer": "ipython2",
   "version": "2.7.10"
  }
 },
 "nbformat": 4,
 "nbformat_minor": 0
}
