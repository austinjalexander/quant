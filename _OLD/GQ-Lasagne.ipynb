{
 "cells": [
  {
   "cell_type": "code",
   "execution_count": 38,
   "metadata": {
    "collapsed": false
   },
   "outputs": [],
   "source": [
    "from module_imports import *\n",
    "from download_data import *\n",
    "from import_data import *\n",
    "\n",
    "import theano\n",
    "import theano.tensor as T\n",
    "\n",
    "import lasagne\n",
    "\n",
    "%matplotlib inline\n",
    "\n",
    "#download_quandl()\n",
    "#download_goog()\n",
    "'''\n",
    "Q_stock_df, Q_prediction_df, Q_pred_tickers = get_quandl_data()\n",
    "G_stock_df, G_prediction_df, G_pred_tickers = get_goog_data()\n",
    "\n",
    "GQ_df = pd.merge(Q_stock_df, G_stock_df, how='outer', on=['ticker', 'date']).dropna()\n",
    "#####GQ_df = GQ_df[GQ_df['label_x'] == GQ_df['label_y']]\n",
    "\n",
    "GQ_prediction_df = pd.merge(Q_prediction_df, G_prediction_df, how='outer', on=['ticker', 'date'])\n",
    "\n",
    "GQ_df.to_csv('GQ_df.csv', index=False)\n",
    "GQ_prediction_df.to_csv('GQ_prediction_df.csv', index=False)\n",
    "#'''\n",
    "GQ_df = pd.read_csv('GQ_df.csv')\n",
    "GQ_prediction_df = pd.read_csv('GQ_prediction_df.csv')"
   ]
  },
  {
   "cell_type": "code",
   "execution_count": 39,
   "metadata": {
    "collapsed": false
   },
   "outputs": [
    {
     "data": {
      "text/plain": [
       "SGYP    48\n",
       "BABY    48\n",
       "SGMO    48\n",
       "THLD    48\n",
       "SGEN    48\n",
       "ACOR    48\n",
       "RPRX    48\n",
       "NSTG    48\n",
       "AFFX    48\n",
       "BCRX    48\n",
       "dtype: int64"
      ]
     },
     "execution_count": 39,
     "metadata": {},
     "output_type": "execute_result"
    }
   ],
   "source": [
    "GQ_df['ticker'].value_counts()[:10]"
   ]
  },
  {
   "cell_type": "code",
   "execution_count": 40,
   "metadata": {
    "collapsed": false
   },
   "outputs": [
    {
     "data": {
      "text/plain": [
       "(221, 98)"
      ]
     },
     "execution_count": 40,
     "metadata": {},
     "output_type": "execute_result"
    }
   ],
   "source": [
    "GQ_df[GQ_df['label_x'] >= 0.05].shape"
   ]
  },
  {
   "cell_type": "code",
   "execution_count": 41,
   "metadata": {
    "collapsed": false
   },
   "outputs": [
    {
     "data": {
      "text/plain": [
       "(4008, 98)"
      ]
     },
     "execution_count": 41,
     "metadata": {},
     "output_type": "execute_result"
    }
   ],
   "source": [
    "GQ_df[GQ_df['label_x'] < 0.05].shape"
   ]
  },
  {
   "cell_type": "code",
   "execution_count": 42,
   "metadata": {
    "collapsed": false
   },
   "outputs": [],
   "source": [
    "# keep PPS > gt\n",
    "GQ_df = GQ_df[GQ_df['Open'] > 0]\n",
    "\n",
    "# keep PPS < lt\n",
    "GQ_df = GQ_df[GQ_df['Open'] < 20.0]\n",
    "\n",
    "# keep volume > vol\n",
    "GQ_df = GQ_df[GQ_df['Volume'] > 1000]\n",
    "\n",
    "# binarize labels\n",
    "GQ_df['label_x'] = GQ_df['label_x'].map(lambda x: 1 if x >= 0.05 else 0)\n",
    "\n",
    "Y = GQ_df['label_x'].values\n",
    "Y = Y.reshape(Y.shape[0], 1)\n",
    "\n",
    "X_df = GQ_df.drop(['label_x','label_y','date'], axis=1)\n",
    "X_df['ticker'] = X_df['ticker'].astype('category').cat.codes\n",
    "X = X_df.values"
   ]
  },
  {
   "cell_type": "code",
   "execution_count": 43,
   "metadata": {
    "collapsed": true
   },
   "outputs": [],
   "source": [
    "balance_labeled_data = False\n",
    "# BALANCE LABELS\n",
    "if balance_labeled_data == True:\n",
    "    # randomly balance labeled data\n",
    "    indices_Y_is_0 = np.where(Y == 0)[0]\n",
    "    #print indices_Y_is_0.shape[0]\n",
    "    indices_Y_is_1 = np.where(Y == 1)[0]\n",
    "    #print indices_Y_is_1.shape[0]\n",
    "\n",
    "    subset_indices_Y_is_0 = np.random.choice(indices_Y_is_0, indices_Y_is_1.shape[0])\n",
    "    X_is_0 = X[subset_indices_Y_is_0]\n",
    "    Y_is_0 = Y[subset_indices_Y_is_0]\n",
    "    X_is_1 = X[indices_Y_is_1]\n",
    "    Y_is_1 = Y[indices_Y_is_1]\n",
    "\n",
    "    X = np.concatenate((X_is_0,X_is_1))\n",
    "    Y = np.concatenate((Y_is_0,Y_is_1))"
   ]
  },
  {
   "cell_type": "code",
   "execution_count": 44,
   "metadata": {
    "collapsed": false
   },
   "outputs": [
    {
     "data": {
      "text/plain": [
       "(2406, 95)"
      ]
     },
     "execution_count": 44,
     "metadata": {},
     "output_type": "execute_result"
    }
   ],
   "source": [
    "X.shape"
   ]
  },
  {
   "cell_type": "code",
   "execution_count": 45,
   "metadata": {
    "collapsed": false
   },
   "outputs": [
    {
     "data": {
      "image/png": "[encoded data removed]",
      "text/plain": [
       "<matplotlib.figure.Figure at 0x110095710>"
      ]
     },
     "metadata": {},
     "output_type": "display_data"
    }
   ],
   "source": [
    "plt.hist(Y)\n",
    "plt.show()"
   ]
  },
  {
   "cell_type": "code",
   "execution_count": 46,
   "metadata": {
    "collapsed": true
   },
   "outputs": [],
   "source": [
    "X_train, X_vt, y_train, y_vt = train_test_split(X, Y, test_size=0.30, random_state=42)\n",
    "X_validation, X_test, y_validation, y_test = train_test_split(X_vt, y_vt, test_size=0.50, random_state=42)\n",
    "\n",
    "scaler = StandardScaler()\n",
    "X_train = scaler.fit_transform(X_train)"
   ]
  },
  {
   "cell_type": "code",
   "execution_count": 47,
   "metadata": {
    "collapsed": false
   },
   "outputs": [],
   "source": [
    "X_validation = scaler.transform(X_validation)"
   ]
  },
  {
   "cell_type": "code",
   "execution_count": 48,
   "metadata": {
    "collapsed": false
   },
   "outputs": [
    {
     "data": {
      "text/plain": [
       "(1684, 95)"
      ]
     },
     "execution_count": 48,
     "metadata": {},
     "output_type": "execute_result"
    }
   ],
   "source": [
    "X_train.shape"
   ]
  },
  {
   "cell_type": "code",
   "execution_count": 49,
   "metadata": {
    "collapsed": false
   },
   "outputs": [
    {
     "data": {
      "text/plain": [
       "(95,)"
      ]
     },
     "execution_count": 49,
     "metadata": {},
     "output_type": "execute_result"
    }
   ],
   "source": [
    "X[0].shape"
   ]
  },
  {
   "cell_type": "code",
   "execution_count": 50,
   "metadata": {
    "collapsed": false
   },
   "outputs": [
    {
     "data": {
      "text/plain": [
       "(1684, 1)"
      ]
     },
     "execution_count": 50,
     "metadata": {},
     "output_type": "execute_result"
    }
   ],
   "source": [
    "y_train.shape"
   ]
  },
  {
   "cell_type": "code",
   "execution_count": 54,
   "metadata": {
    "collapsed": false
   },
   "outputs": [],
   "source": [
    "l_in = lasagne.layers.InputLayer((95, 1))\n",
    "l_hidden = lasagne.layers.DenseLayer(l_in, num_units=50, W=lasagne.init.GlorotUniform())\n",
    "l_out = lasagne.layers.DenseLayer(l_hidden, num_units=2,\n",
    "                                  nonlinearity=T.nnet.softmax)\n",
    "\n",
    "y = lasagne.layers.get_output(l_out)\n",
    "\n",
    "f = theano.function([l_in.input_var], lasagne.layers.get_output(l_out))"
   ]
  },
  {
   "cell_type": "code",
   "execution_count": 37,
   "metadata": {
    "collapsed": false
   },
   "outputs": [
    {
     "data": {
      "text/plain": [
       "[3.0517578125e-05, 0.0009765625, 0.03125, 1, 32, 1024, 32768]"
      ]
     },
     "execution_count": 37,
     "metadata": {},
     "output_type": "execute_result"
    }
   ],
   "source": [
    "[2**x for x in xrange(-15, 20, 5)]"
   ]
  },
  {
   "cell_type": "code",
   "execution_count": 38,
   "metadata": {
    "collapsed": false
   },
   "outputs": [
    {
     "data": {
      "text/plain": [
       "'\\nks = [x for x in xrange(1,X.shape[1])]\\n# RANDOM SEARCH\\nfor i in xrange(20):\\n    k = np.random.choice(ks)\\n    skb = SelectKBest(k=k)\\n    skb = skb.fit(X_train,y_train.ravel())\\n    skb_X_train = skb.transform(X_train)\\n    \\n    clf = GaussianNB()\\n    clf.fit(skb_X_train,y_train.ravel())\\n    \\n    skb_X_validation = skb.transform(X_validation)\\n    print \"k =\", k, \"score:\", clf.score(skb_X_validation,y_validation.ravel())\\n#'"
      ]
     },
     "execution_count": 38,
     "metadata": {},
     "output_type": "execute_result"
    }
   ],
   "source": [
    "'''\n",
    "ks = [x for x in xrange(1,X.shape[1])]\n",
    "# RANDOM SEARCH\n",
    "for i in xrange(20):\n",
    "    k = np.random.choice(ks)\n",
    "    skb = SelectKBest(k=k)\n",
    "    skb = skb.fit(X_train,y_train.ravel())\n",
    "    skb_X_train = skb.transform(X_train)\n",
    "    \n",
    "    clf = GaussianNB()\n",
    "    clf.fit(skb_X_train,y_train.ravel())\n",
    "    \n",
    "    skb_X_validation = skb.transform(X_validation)\n",
    "    print \"k =\", k, \"score:\", clf.score(skb_X_validation,y_validation.ravel())\n",
    "#'''"
   ]
  },
  {
   "cell_type": "code",
   "execution_count": 39,
   "metadata": {
    "collapsed": false
   },
   "outputs": [
    {
     "data": {
      "text/plain": [
       "'\\nks = [x for x in xrange(1,X.shape[1])]\\ncriteria = [\\'gini\\', \\'entropy\\']\\nsplitters = [\\'best\\', \\'random\\']\\nmax_feats = [\\'auto\\', \\'sqrt\\', \\'log2\\', None]\\nclass_weights = [\\'auto\\', None]\\n# RANDOM SEARCH\\nfor i in xrange(20):\\n    k = np.random.choice(ks)\\n    skb = SelectKBest(k=k)\\n    skb = skb.fit(X_train,y_train.ravel())\\n    skb_X_train = skb.transform(X_train)\\n    \\n    criterion = np.random.choice(criteria)\\n    splitter = np.random.choice(splitters)\\n    max_features = np.random.choice(max_feats)\\n    class_weight = np.random.choice(class_weights)\\n    \\n    clf = DecisionTreeClassifier(criterion=criterion, splitter=splitter, max_depth=None, min_samples_split=2, min_samples_leaf=1, min_weight_fraction_leaf=0.0, max_features=max_features, random_state=42, max_leaf_nodes=None, class_weight=class_weight)\\n    clf.fit(skb_X_train,y_train.ravel())\\n    \\n    skb_X_validation = skb.transform(X_validation)\\n    print \"k =\", k, \"criterion =\", criterion, \"splitter =\", splitter, \"max_features =\", max_features, \"class_weight =\", class_weight, \"score:\", clf.score(skb_X_validation,y_validation.ravel())\\n#'"
      ]
     },
     "execution_count": 39,
     "metadata": {},
     "output_type": "execute_result"
    }
   ],
   "source": [
    "'''\n",
    "ks = [x for x in xrange(1,X.shape[1])]\n",
    "criteria = ['gini', 'entropy']\n",
    "splitters = ['best', 'random']\n",
    "max_feats = ['auto', 'sqrt', 'log2', None]\n",
    "class_weights = ['auto', None]\n",
    "# RANDOM SEARCH\n",
    "for i in xrange(20):\n",
    "    k = np.random.choice(ks)\n",
    "    skb = SelectKBest(k=k)\n",
    "    skb = skb.fit(X_train,y_train.ravel())\n",
    "    skb_X_train = skb.transform(X_train)\n",
    "    \n",
    "    criterion = np.random.choice(criteria)\n",
    "    splitter = np.random.choice(splitters)\n",
    "    max_features = np.random.choice(max_feats)\n",
    "    class_weight = np.random.choice(class_weights)\n",
    "    \n",
    "    clf = DecisionTreeClassifier(criterion=criterion, splitter=splitter, max_depth=None, min_samples_split=2, min_samples_leaf=1, min_weight_fraction_leaf=0.0, max_features=max_features, random_state=42, max_leaf_nodes=None, class_weight=class_weight)\n",
    "    clf.fit(skb_X_train,y_train.ravel())\n",
    "    \n",
    "    skb_X_validation = skb.transform(X_validation)\n",
    "    print \"k =\", k, \"criterion =\", criterion, \"splitter =\", splitter, \"max_features =\", max_features, \"class_weight =\", class_weight, \"score:\", clf.score(skb_X_validation,y_validation.ravel())\n",
    "#'''"
   ]
  },
  {
   "cell_type": "code",
   "execution_count": 40,
   "metadata": {
    "collapsed": false
   },
   "outputs": [
    {
     "name": "stdout",
     "output_type": "stream",
     "text": [
      "k = 10 C = 0.0009765625 gamma = 0.0009765625 score: 0.471698113208\n",
      "k = 73 C = 1024.0 gamma = 0.0009765625 score: 0.547169811321\n",
      "k = 10 C = 32.0 gamma = 0.0009765625 score: 0.584905660377\n",
      "k = 53 C = 0.03125 gamma = 0.0009765625 score: 0.471698113208\n",
      "k = 85 C = 3.0517578125e-05 gamma = 0.0009765625 score: 0.471698113208\n",
      "k = 62 C = 32768.0 gamma = 0.0009765625 score: 0.547169811321\n",
      "k = 23 C = 0.0009765625 gamma = 0.0009765625 score: 0.471698113208\n",
      "k = 49 C = 1.0 gamma = 0.0009765625 score: 0.584905660377\n",
      "k = 66 C = 32.0 gamma = 0.0009765625 score: 0.622641509434\n",
      "k = 36 C = 32.0 gamma = 0.0009765625 score: 0.547169811321\n",
      "k = 4 C = 1024.0 gamma = 0.0009765625 score: 0.603773584906\n",
      "k = 88 C = 1024.0 gamma = 0.0009765625 score: 0.528301886792\n",
      "k = 22 C = 32768.0 gamma = 0.0009765625 score: 0.547169811321\n",
      "k = 90 C = 0.0009765625 gamma = 0.0009765625 score: 0.471698113208\n",
      "k = 60 C = 0.03125 gamma = 0.0009765625 score: 0.471698113208\n",
      "k = 6 C = 0.03125 gamma = 0.0009765625 score: 0.471698113208\n",
      "k = 58 C = 0.03125 gamma = 0.0009765625 score: 0.471698113208\n",
      "k = 30 C = 32.0 gamma = 0.0009765625 score: 0.547169811321\n",
      "k = 38 C = 3.0517578125e-05 gamma = 0.0009765625 score: 0.471698113208\n",
      "k = 64 C = 0.03125 gamma = 0.0009765625 score: 0.471698113208\n"
     ]
    }
   ],
   "source": [
    "#'''\n",
    "ks = [x for x in xrange(1,X.shape[1])]\n",
    "Cs = [2**x for x in xrange(-15, 20, 5)]\n",
    "gammas = [2**x for x in xrange(-15, 20, 5)]\n",
    "# RANDOM SEARCH\n",
    "for i in xrange(20):\n",
    "    k = np.random.choice(ks)\n",
    "    skb = SelectKBest(k=k)\n",
    "    skb = skb.fit(X_train,y_train.ravel())\n",
    "    skb_X_train = skb.transform(X_train)\n",
    "    \n",
    "    C = np.random.choice(Cs)\n",
    "    gamma = 2**-10\n",
    "    clf = SVC(C=C, cache_size=200, class_weight='auto', coef0=0.0, degree=3, gamma=gamma, kernel='rbf', max_iter=-1, probability=False, random_state=42, shrinking=True, tol=0.001, verbose=False)\n",
    "    clf.fit(skb_X_train,y_train.ravel())\n",
    "    \n",
    "    skb_X_validation = skb.transform(X_validation)\n",
    "    print \"k =\", k, \"C =\", C, \"gamma =\", gamma, \"score:\", clf.score(skb_X_validation,y_validation.ravel())\n",
    "#'''"
   ]
  },
  {
   "cell_type": "markdown",
   "metadata": {},
   "source": [
    "---"
   ]
  },
  {
   "cell_type": "code",
   "execution_count": 41,
   "metadata": {
    "collapsed": true
   },
   "outputs": [],
   "source": [
    "X_test = scaler.transform(X_test)"
   ]
  },
  {
   "cell_type": "code",
   "execution_count": 20,
   "metadata": {
    "collapsed": false
   },
   "outputs": [
    {
     "data": {
      "text/plain": [
       "'\\nskb = SelectKBest(k=29)\\nskb = skb.fit(X_train,y_train.ravel())\\nskb_X_train = skb.transform(X_train)\\n\\nskb_X_test = skb.transform(X_test)\\n\\nclf = GaussianNB()\\nclf.fit(skb_X_train,y_train.ravel())\\nclf.score(skb_X_test,y_test.ravel())\\n#'"
      ]
     },
     "execution_count": 20,
     "metadata": {},
     "output_type": "execute_result"
    }
   ],
   "source": [
    "'''\n",
    "skb = SelectKBest(k=29)\n",
    "skb = skb.fit(X_train,y_train.ravel())\n",
    "skb_X_train = skb.transform(X_train)\n",
    "\n",
    "skb_X_test = skb.transform(X_test)\n",
    "\n",
    "clf = GaussianNB()\n",
    "clf.fit(skb_X_train,y_train.ravel())\n",
    "clf.score(skb_X_test,y_test.ravel())\n",
    "#'''"
   ]
  },
  {
   "cell_type": "code",
   "execution_count": 21,
   "metadata": {
    "collapsed": false
   },
   "outputs": [
    {
     "data": {
      "text/plain": [
       "\"\\nskb = SelectKBest(k=53)\\nskb = skb.fit(X_train,y_train.ravel())\\nskb_X_train = skb.transform(X_train)\\n\\nskb_X_test = skb.transform(X_test)\\n\\nclf = DecisionTreeClassifier(criterion='entropy', splitter='best', max_depth=None, min_samples_split=2, min_samples_leaf=1, min_weight_fraction_leaf=0.0, max_features='auto', random_state=42, max_leaf_nodes=None, class_weight='auto')\\nclf.fit(skb_X_train,y_train.ravel())\\nclf.score(skb_X_test,y_test.ravel())\\n#\""
      ]
     },
     "execution_count": 21,
     "metadata": {},
     "output_type": "execute_result"
    }
   ],
   "source": [
    "'''\n",
    "skb = SelectKBest(k=53)\n",
    "skb = skb.fit(X_train,y_train.ravel())\n",
    "skb_X_train = skb.transform(X_train)\n",
    "\n",
    "skb_X_test = skb.transform(X_test)\n",
    "\n",
    "clf = DecisionTreeClassifier(criterion='entropy', splitter='best', max_depth=None, min_samples_split=2, min_samples_leaf=1, min_weight_fraction_leaf=0.0, max_features='auto', random_state=42, max_leaf_nodes=None, class_weight='auto')\n",
    "clf.fit(skb_X_train,y_train.ravel())\n",
    "clf.score(skb_X_test,y_test.ravel())\n",
    "#'''"
   ]
  },
  {
   "cell_type": "code",
   "execution_count": 42,
   "metadata": {
    "collapsed": false
   },
   "outputs": [
    {
     "data": {
      "text/plain": [
       "0.5"
      ]
     },
     "execution_count": 42,
     "metadata": {},
     "output_type": "execute_result"
    }
   ],
   "source": [
    "#'''\n",
    "skb = SelectKBest(k=66)\n",
    "skb = skb.fit(X_train,y_train.ravel())\n",
    "skb_X_train = skb.transform(X_train)\n",
    "\n",
    "skb_X_test = skb.transform(X_test)\n",
    "\n",
    "clf = SVC(C=2**5, cache_size=200, class_weight='auto', coef0=0.0, degree=3, gamma=2**-10, kernel='rbf', max_iter=-1, probability=True, random_state=42, shrinking=True, tol=0.001, verbose=False)\n",
    "clf.fit(skb_X_train,y_train.ravel())\n",
    "clf.score(skb_X_test,y_test.ravel())\n",
    "#'''"
   ]
  },
  {
   "cell_type": "code",
   "execution_count": 43,
   "metadata": {
    "collapsed": false
   },
   "outputs": [
    {
     "name": "stdout",
     "output_type": "stream",
     "text": [
      "             precision    recall  f1-score   support\n",
      "\n",
      "          0       0.52      0.61      0.56        28\n",
      "          1       0.48      0.38      0.43        26\n",
      "\n",
      "avg / total       0.50      0.50      0.49        54\n",
      "\n"
     ]
    }
   ],
   "source": [
    "print classification_report(y_test, clf.predict(skb_X_test))"
   ]
  },
  {
   "cell_type": "code",
   "execution_count": 45,
   "metadata": {
    "collapsed": false
   },
   "outputs": [],
   "source": [
    "for i in xrange(X_df.columns.shape[0]):\n",
    "    if np.round(skb.scores_[i], 1) > 50:\n",
    "        print X_df.columns[i], np.round(skb.scores_[i], 1)"
   ]
  },
  {
   "cell_type": "markdown",
   "metadata": {},
   "source": [
    "---"
   ]
  },
  {
   "cell_type": "code",
   "execution_count": 46,
   "metadata": {
    "collapsed": false
   },
   "outputs": [],
   "source": [
    "pred_df = GQ_prediction_df[GQ_prediction_df['label_x'].apply(np.isnan) == True]\n",
    "pred_df = pred_df.drop(['label_x','label_y','date'], axis=1)\n",
    "pred_df = pred_df.dropna()\n",
    "pred_tickers = pred_df['ticker'].unique()"
   ]
  },
  {
   "cell_type": "code",
   "execution_count": 47,
   "metadata": {
    "collapsed": false
   },
   "outputs": [
    {
     "data": {
      "text/plain": [
       "(82, 66)"
      ]
     },
     "execution_count": 47,
     "metadata": {},
     "output_type": "execute_result"
    }
   ],
   "source": [
    "pred_df['ticker'] = pred_df['ticker'].astype('category').cat.codes\n",
    "pred_X = pred_df.values\n",
    "pred_X = scaler.transform(pred_X)\n",
    "pred_X = skb.transform(pred_X)\n",
    "pred_X.shape"
   ]
  },
  {
   "cell_type": "code",
   "execution_count": 53,
   "metadata": {
    "collapsed": false
   },
   "outputs": [
    {
     "name": "stdout",
     "output_type": "stream",
     "text": [
      "0 ACOR [0] [ 0.78365508  0.21634492] \n",
      "1 AERI [0] [ 0.48928068  0.51071932] \n",
      "2 AFFX [0] [ 0.59069316  0.40930684] \n",
      "3 AGEN [1] [ 0.44324862  0.55675138] \n",
      "4 ARIA [1] [ 0.05892946  0.94107054] <--\n",
      "5 ARNA [1] [ 0.38175468  0.61824532] \n",
      "6 ARWR [1] [ 0.45773573  0.54226427] \n",
      "7 AXDX [0] [ 0.57798026  0.42201974] \n",
      "8 BABY [0] [ 0.79805773  0.20194227] \n",
      "9 BCRX [0] [ 0.47536475  0.52463525] \n",
      "10 BIIB [0] [ 0.74205696  0.25794304] \n",
      "11 BLUE [0] [ 0.74205696  0.25794304] \n",
      "12 BRKR [0] [ 0.66416859  0.33583141] \n",
      "13 CBPO [0] [ 0.74205796  0.25794204] \n",
      "14 CLDN [0] [ 0.65590835  0.34409165] \n",
      "15 CLDX [0] [ 0.54805423  0.45194577] \n",
      "16 CNMD [0] [ 0.76855285  0.23144715] \n",
      "17 CPHD [0] [ 0.77546976  0.22453024] \n",
      "18 CPRX [0] [ 0.46923364  0.53076636] \n",
      "19 CRIS [1] [ 0.4136786  0.5863214] \n",
      "20 CYBX [0] [ 0.74601845  0.25398155] \n",
      "21 CYNO [0] [ 0.80686186  0.19313814] \n",
      "22 CYTR [0] [ 0.49386054  0.50613946] \n",
      "23 DSCO [1] [ 0.27235381  0.72764619] \n",
      "24 DYAX [0] [ 0.6812358  0.3187642] \n",
      "25 ECYT [0] [ 0.57043765  0.42956235] \n",
      "26 ENZN [1] [ 0.40725693  0.59274307] \n",
      "27 EXAS [0] [ 0.68461362  0.31538638] \n",
      "28 EXEL [1] [ 0.36413575  0.63586425] \n",
      "29 FATE [0] [ 0.53676553  0.46323447] \n",
      "30 FEIC [0] [ 0.74278114  0.25721886] \n",
      "31 FLDM [0] [ 0.59678285  0.40321715] \n",
      "32 GILD [0] [ 0.74205703  0.25794297] \n",
      "33 GNCA [0] [ 0.59485001  0.40514999] \n",
      "34 HALO [0] [ 0.5858561  0.4141439] \n",
      "35 IART [0] [ 0.75213242  0.24786758] \n",
      "36 IDRA [1] [ 0.4165198  0.5834802] \n",
      "37 IDXX [0] [ 0.74335676  0.25664324] \n",
      "38 ILMN [0] [ 0.74205696  0.25794304] \n",
      "39 IMMU [0] [ 0.49301815  0.50698185] \n",
      "40 INCY [0] [ 0.74205697  0.25794303] \n",
      "41 INO [1] [ 0.33193292  0.66806708] \n",
      "42 LJPC [0] [ 0.65095312  0.34904688] \n",
      "43 LPCN [0] [ 0.57147878  0.42852122] \n",
      "44 MASI [0] [ 0.79769036  0.20230964] \n",
      "45 MEIP [0] [ 0.59151396  0.40848604] \n",
      "46 MNKD [0] [ 0.47977792  0.52022208] \n",
      "47 MNTA [0] [ 0.63111841  0.36888159] \n",
      "48 MYGN [0] [ 0.79845573  0.20154427] \n",
      "49 NEOG [0] [ 0.77164156  0.22835844] \n",
      "50 NSTG [0] [ 0.6100659  0.3899341] \n",
      "51 NVAX [1] [ 0.37196867  0.62803133] \n",
      "52 NVDQ [0] [ 0.55037256  0.44962744] \n",
      "53 NXTM [0] [ 0.70690837  0.29309163] \n",
      "54 OGXI [1] [ 0.39503204  0.60496796] \n",
      "55 ONTY [1] [ 0.42003972  0.57996028] \n",
      "56 OREX [1] [ 0.33036129  0.66963871] \n",
      "57 OSIR [0] [ 0.58350251  0.41649749] \n",
      "58 PACB [0] [ 0.52883478  0.47116522] \n",
      "59 PDLI [0] [ 0.5  0.5] \n",
      "60 PGNX [1] [ 0.28238288  0.71761712] \n",
      "61 PRXL [0] [ 0.74559383  0.25440617] \n",
      "62 QDEL [0] [ 0.70265914  0.29734086] \n",
      "63 QGEN [0] [ 0.78975072  0.21024928] \n",
      "64 RGEN [0] [ 0.77138617  0.22861383] \n",
      "65 RMTI [0] [ 0.64761397  0.35238603] \n",
      "66 RPRX [0] [ 0.48988632  0.51011368] \n",
      "67 SGEN [0] [ 0.79534653  0.20465347] \n",
      "68 SGMO [0] [ 0.51771323  0.48228677] \n",
      "69 SGYP [1] [ 0.38287641  0.61712359] \n",
      "70 SNMX [1] [ 0.22797249  0.77202751] \n",
      "71 SPNC [0] [ 0.59850365  0.40149635] \n",
      "72 SRNE [0] [ 0.57025824  0.42974176] \n",
      "73 STEM [0] [ 0.66782034  0.33217966] \n",
      "74 TECH [0] [ 0.74206029  0.25793971] \n",
      "75 THLD [0] [ 0.60433774  0.39566226] \n",
      "76 THOR [0] [ 0.75078457  0.24921543] \n",
      "77 TNXP [0] [ 0.48913795  0.51086205] \n",
      "78 TROV [1] [ 0.32957603  0.67042397] \n",
      "79 TRVN [0] [ 0.5678265  0.4321735] \n",
      "80 XLRN [0] [ 0.70374641  0.29625359] \n",
      "81 ZLTQ [0] [ 0.78208825  0.21791175] \n"
     ]
    }
   ],
   "source": [
    "X_probabilities = clf.predict_proba(pred_X)\n",
    "positive_tickers = []\n",
    "for i in xrange(pred_X.shape[0]):\n",
    "    print i, pred_tickers[i], clf.predict(pred_X[i]), X_probabilities[i], \"<--\" if X_probabilities[i][1] > 0.85 else ''\n",
    "    if X_probabilities[i][1] >= 0.7:\n",
    "        positive_tickers.append(pred_tickers[i])"
   ]
  },
  {
   "cell_type": "code",
   "execution_count": 55,
   "metadata": {
    "collapsed": false
   },
   "outputs": [
    {
     "data": {
      "image/png": "[encoded data removed]",
      "text/plain": [
       "<matplotlib.figure.Figure at 0x1135f7950>"
      ]
     },
     "metadata": {},
     "output_type": "display_data"
    },
    {
     "name": "stdout",
     "output_type": "stream",
     "text": [
      "\tARIA 100-day freq probability: 0.03\n",
      "~~~~~~~~~~~~~~~~~~~~~~~~~~~~~~~~~~~~~~~~~~~~~~~~~~ \n",
      "\n"
     ]
    },
    {
     "data": {
      "image/png": "[encoded data removed]",
      "text/plain": [
       "<matplotlib.figure.Figure at 0x1135f7f10>"
      ]
     },
     "metadata": {},
     "output_type": "display_data"
    },
    {
     "name": "stdout",
     "output_type": "stream",
     "text": [
      "\tDSCO 100-day freq probability: 0.07\n",
      "~~~~~~~~~~~~~~~~~~~~~~~~~~~~~~~~~~~~~~~~~~~~~~~~~~ \n",
      "\n"
     ]
    },
    {
     "data": {
      "image/png": "[encoded data removed]",
      "text/plain": [
       "<matplotlib.figure.Figure at 0x113429a50>"
      ]
     },
     "metadata": {},
     "output_type": "display_data"
    },
    {
     "name": "stdout",
     "output_type": "stream",
     "text": [
      "\tPGNX 100-day freq probability: 0.09\n",
      "~~~~~~~~~~~~~~~~~~~~~~~~~~~~~~~~~~~~~~~~~~~~~~~~~~ \n",
      "\n"
     ]
    },
    {
     "data": {
      "image/png": "[encoded data removed]",
      "text/plain": [
       "<matplotlib.figure.Figure at 0x113429a90>"
      ]
     },
     "metadata": {},
     "output_type": "display_data"
    },
    {
     "name": "stdout",
     "output_type": "stream",
     "text": [
      "\tSNMX 100-day freq probability: 0.11\n",
      "~~~~~~~~~~~~~~~~~~~~~~~~~~~~~~~~~~~~~~~~~~~~~~~~~~ \n",
      "\n"
     ]
    }
   ],
   "source": [
    "for ticker in positive_tickers:\n",
    "    \n",
    "    past_days = 100\n",
    "    \n",
    "    oc = GQ_prediction_df[GQ_prediction_df['ticker'] == ticker][\"OC%\"][-past_days:]\n",
    "    \n",
    "    num_days = oc.shape[0]\n",
    "    \n",
    "    day_range = np.arange(num_days)\n",
    "    \n",
    "    plt.plot(day_range, oc, alpha=0.5)\n",
    "    plt.plot(day_range, [0.05 for x in day_range], color='r')\n",
    "    plt.title(\"{0} (previous {1} days)\".format(ticker, num_days))\n",
    "    plt.show()\n",
    "\n",
    "    print \"\\t\", ticker, \"{}-day freq probability:\".format(past_days), np.true_divide(np.sum(oc.values > 0.05), past_days)\n",
    "    print \"~\"*50, \"\\n\"  "
   ]
  }
 ],
 "metadata": {
  "kernelspec": {
   "display_name": "Python 2",
   "language": "python",
   "name": "python2"
  },
  "language_info": {
   "codemirror_mode": {
    "name": "ipython",
    "version": 2
   },
   "file_extension": ".py",
   "mimetype": "text/x-python",
   "name": "python",
   "nbconvert_exporter": "python",
   "pygments_lexer": "ipython2",
   "version": "2.7.10"
  }
 },
 "nbformat": 4,
 "nbformat_minor": 0
}
