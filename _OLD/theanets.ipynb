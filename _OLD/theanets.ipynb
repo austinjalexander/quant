{
 "cells": [
  {
   "cell_type": "code",
   "execution_count": 2,
   "metadata": {
    "collapsed": true
   },
   "outputs": [],
   "source": [
    "#http://theanets.readthedocs.org/en/stable/\n",
    "from module_imports import *\n",
    "from download_data import *\n",
    "from import_data import *\n",
    "\n",
    "import theanets\n",
    "from sklearn.datasets import make_classification\n",
    "from sklearn.metrics import confusion_matrix\n",
    "\n",
    "%matplotlib inline"
   ]
  },
  {
   "cell_type": "code",
   "execution_count": null,
   "metadata": {
    "collapsed": true
   },
   "outputs": [],
   "source": [
    "stock_df, prediction_df = pd.DataFrame(), pd.DataFrame()\n",
    "source = \"Q\"\n",
    "binarize = True\n",
    "gt = 2.0\n",
    "lt = 20.0\n",
    "vol = 100\n",
    "if source == \"Q\":\n",
    "    stock_df, prediction_df = get_quandl_data(binarize=True, gt=gt, lt=lt, vol=vol)\n",
    "elif source == \"G\":\n",
    "    stock_df, prediction_df = get_goog_data(binarize=True, gt=gt, lt=lt, vol=vol)"
   ]
  },
  {
   "cell_type": "code",
   "execution_count": null,
   "metadata": {
    "collapsed": true
   },
   "outputs": [],
   "source": [
    "y = stock_df['label'].values\n",
    "y = y.reshape(y.shape[0], 1)\n",
    "\n",
    "X_df = stock_df.drop('label', axis=1)\n",
    "X = X_df.values\n",
    "\n",
    "print X.shape, y.shape\n",
    "X_df.tail()"
   ]
  },
  {
   "cell_type": "code",
   "execution_count": 4,
   "metadata": {
    "collapsed": false
   },
   "outputs": [
    {
     "name": "stdout",
     "output_type": "stream",
     "text": [
      "training:\n",
      "[[133  10  17  14  21  13  10   8  14   2]\n",
      " [  4 127  29   6  13  20  10   4  11  13]\n",
      " [ 23  16 139  19   6   6   8   0  12   9]\n",
      " [ 29  10  15  92   7  21  23  20   9  24]\n",
      " [ 31  37  12   1 102  16  14   8  10   4]\n",
      " [ 25  35  21  21  17  54  21  15  13  15]\n",
      " [ 13  10   4  28  15  21 124   3  14   7]\n",
      " [  8   9   8   8   2   8  15 120  24  39]\n",
      " [ 10  22  15  13   7  26  18  30  74  25]\n",
      " [ 20  18  25  10   3   5   7  39  13 101]]\n",
      "             precision    recall  f1-score   support\n",
      "\n",
      "          0       0.45      0.55      0.49       242\n",
      "          1       0.43      0.54      0.48       237\n",
      "          2       0.49      0.58      0.53       238\n",
      "          3       0.43      0.37      0.40       250\n",
      "          4       0.53      0.43      0.48       235\n",
      "          5       0.28      0.23      0.25       237\n",
      "          6       0.50      0.52      0.51       239\n",
      "          7       0.49      0.50      0.49       241\n",
      "          8       0.38      0.31      0.34       240\n",
      "          9       0.42      0.42      0.42       241\n",
      "\n",
      "avg / total       0.44      0.44      0.44      2400\n",
      "\n",
      "validation:\n",
      "[[29  2  5  3  4  3  4  3  4  3]\n",
      " [ 0 31  5  5  8  4  1  3  4  0]\n",
      " [ 3  9 32  3  1  2  2  0  4  5]\n",
      " [ 4  6  4  8  2  7  6  8  3  4]\n",
      " [11 11  4  0 22  6  5  2  3  1]\n",
      " [ 6  9  7  5  5 16  1  7  2  5]\n",
      " [ 5  4  0  9 10  8 15  1  6  1]\n",
      " [ 2  7  4  3  0  4  3 20  5 10]\n",
      " [ 3  8  1  3  2  5  7  9 15  7]\n",
      " [ 7  1  5  5  1  7  5 11  3 16]]\n",
      "             precision    recall  f1-score   support\n",
      "\n",
      "          0       0.41      0.48      0.45        60\n",
      "          1       0.35      0.51      0.42        61\n",
      "          2       0.48      0.52      0.50        61\n",
      "          3       0.18      0.15      0.17        52\n",
      "          4       0.40      0.34      0.37        65\n",
      "          5       0.26      0.25      0.26        63\n",
      "          6       0.31      0.25      0.28        59\n",
      "          7       0.31      0.34      0.33        58\n",
      "          8       0.31      0.25      0.28        60\n",
      "          9       0.31      0.26      0.28        61\n",
      "\n",
      "avg / total       0.33      0.34      0.33       600\n",
      "\n"
     ]
    }
   ],
   "source": [
    "# Create a classification dataset.\n",
    "X, y = make_classification(\n",
    "    n_samples=3000, n_features=100, n_classes=10, n_informative=10)\n",
    "X = X.astype('f')\n",
    "y = y.astype('i')\n",
    "cut = int(len(X) * 0.8)  # training / validation split\n",
    "train = X[:cut], y[:cut]\n",
    "valid = X[cut:], y[cut:]\n",
    "\n",
    "# Build a classifier model with 100 inputs and 10 outputs.\n",
    "exp = theanets.Experiment(theanets.Classifier, layers=(100, 10))\n",
    "\n",
    "# Train the model using SGD with momentum.\n",
    "exp.train(train, valid, algorithm='sgd', learning_rate=1e-4, momentum=0.9)\n",
    "\n",
    "# Show confusion matrices on the training/validation splits.\n",
    "for label, (X, y) in (('training:', train), ('validation:', valid)):\n",
    "    print(label)\n",
    "    print(confusion_matrix(y, exp.network.predict(X)))\n",
    "    print classification_report(y, exp.network.predict(X))"
   ]
  }
 ],
 "metadata": {
  "kernelspec": {
   "display_name": "Python 2",
   "language": "python",
   "name": "python2"
  },
  "language_info": {
   "codemirror_mode": {
    "name": "ipython",
    "version": 2
   },
   "file_extension": ".py",
   "mimetype": "text/x-python",
   "name": "python",
   "nbconvert_exporter": "python",
   "pygments_lexer": "ipython2",
   "version": "2.7.10"
  }
 },
 "nbformat": 4,
 "nbformat_minor": 0
}
