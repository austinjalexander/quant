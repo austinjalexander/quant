{
 "cells": [
  {
   "cell_type": "code",
   "execution_count": 155,
   "metadata": {
    "collapsed": false
   },
   "outputs": [],
   "source": [
    "from module_imports import *\n",
    "from download_data import *\n",
    "from import_data import *\n",
    "from larochelle_nn import *\n",
    "\n",
    "%matplotlib inline\n",
    "\n",
    "\n",
    "#download_quandl()\n",
    "#download_goog()\n",
    "#'''\n",
    "#Q_stock_df, Q_prediction_df, Q_pred_tickers = get_quandl_data()\n",
    "#G_stock_df, G_prediction_df, G_pred_tickers = get_goog_data()\n",
    "\n",
    "#GQ_df = pd.merge(Q_stock_df, G_stock_df, how='outer', on=['ticker', 'date']).dropna()\n",
    "#GQ_df = GQ_df[GQ_df['label_x'] == GQ_df['label_y']]\n",
    "\n",
    "#GQ_prediction_df = pd.merge(Q_prediction_df, G_prediction_df, how='outer', on=['ticker', 'date'])\n",
    "\n",
    "#GQ_df.to_csv('GQ_df.csv', index=False)\n",
    "#GQ_prediction_df.to_csv('GQ_prediction_df.csv', index=False)\n",
    "#'''\n",
    "GQ_df = pd.read_csv('GQ_df.csv')\n",
    "GQ_prediction_df = pd.read_csv('GQ_prediction_df.csv')"
   ]
  },
  {
   "cell_type": "code",
   "execution_count": 156,
   "metadata": {
    "collapsed": false
   },
   "outputs": [
    {
     "data": {
      "text/plain": [
       "SGYP    48\n",
       "BABY    48\n",
       "SGMO    48\n",
       "THLD    48\n",
       "SGEN    48\n",
       "ACOR    48\n",
       "RPRX    48\n",
       "NSTG    48\n",
       "AFFX    48\n",
       "BCRX    48\n",
       "dtype: int64"
      ]
     },
     "execution_count": 156,
     "metadata": {},
     "output_type": "execute_result"
    }
   ],
   "source": [
    "GQ_df['ticker'].value_counts()[:10]"
   ]
  },
  {
   "cell_type": "code",
   "execution_count": 157,
   "metadata": {
    "collapsed": false
   },
   "outputs": [],
   "source": [
    "tickers_to_save = []\n",
    "for ticker in GQ_df['ticker'].unique():\n",
    "    ticker_df = GQ_df[GQ_df['ticker'] == ticker]\n",
    "    if (ticker_df['label_x'] >= 0.03).value_counts().index[0]:\n",
    "        tickers_to_save.append(ticker)\n",
    "    else:\n",
    "        GQ_df = GQ_df[GQ_df['ticker'] != ticker]"
   ]
  },
  {
   "cell_type": "code",
   "execution_count": 158,
   "metadata": {
    "collapsed": false
   },
   "outputs": [
    {
     "name": "stdout",
     "output_type": "stream",
     "text": [
      "['ABIO', 'ACOR', 'AERI', 'AFFX', 'AGEN', 'ARIA', 'ARNA', 'ARWR', 'AXDX', 'BCLI', 'BCRX', 'BLUE', 'CBMG', 'CBPO', 'CGEN', 'CLDN', 'CLDX', 'CPRX', 'CRIS', 'CYNO', 'CYTR', 'DSCO', 'DYAX', 'ECYT', 'ENZN', 'EXAS', 'EXEL', 'FATE', 'FLDM', 'GNCA', 'HALO', 'HSKA', 'IDRA', 'IMMU', 'INCY', 'INO', 'LJPC', 'LPCN', 'LPTN', 'MEIP', 'MNKD', 'MNTA', 'MYGN', 'NBIX', 'NSTG', 'NVAX', 'NVDQ', 'OGXI', 'ONTY', 'OREX', 'OSIR', 'OXGN', 'PACB', 'PGNX', 'PHMD', 'PSTI', 'QLTI', 'RGEN', 'RMTI', 'RPRX', 'SGEN', 'SGMO', 'SGYP', 'SNMX', 'SPNC', 'SRNE', 'SSH', 'STEM', 'SURG', 'THLD', 'TNXP', 'TROV', 'TRVN', 'VICL', 'XLRN', 'ZLTQ']\n"
     ]
    }
   ],
   "source": [
    "print [x for x in tickers_to_save]"
   ]
  },
  {
   "cell_type": "code",
   "execution_count": 159,
   "metadata": {
    "collapsed": false
   },
   "outputs": [
    {
     "data": {
      "text/plain": [
       "(1643, 98)"
      ]
     },
     "execution_count": 159,
     "metadata": {},
     "output_type": "execute_result"
    }
   ],
   "source": [
    "GQ_df[GQ_df['label_x'] >= 0.05].shape"
   ]
  },
  {
   "cell_type": "code",
   "execution_count": 160,
   "metadata": {
    "collapsed": false
   },
   "outputs": [
    {
     "data": {
      "text/plain": [
       "(1566, 98)"
      ]
     },
     "execution_count": 160,
     "metadata": {},
     "output_type": "execute_result"
    }
   ],
   "source": [
    "GQ_df[GQ_df['label_x'] < 0.05].shape"
   ]
  },
  {
   "cell_type": "code",
   "execution_count": 161,
   "metadata": {
    "collapsed": false
   },
   "outputs": [],
   "source": [
    "# keep PPS > gt\n",
    "GQ_df = GQ_df[GQ_df['Open'] > 0]\n",
    "\n",
    "# keep PPS < lt\n",
    "GQ_df = GQ_df[GQ_df['Open'] < 20.0]\n",
    "\n",
    "# keep volume > vol\n",
    "GQ_df = GQ_df[GQ_df['Volume'] > 1000]\n",
    "\n",
    "# binarize labels\n",
    "GQ_df['label_x'] = GQ_df['label_x'].map(lambda x: 1 if x >= 0.05 else 0)\n",
    "\n",
    "Y = GQ_df['label_x'].values\n",
    "Y = Y.reshape(Y.shape[0], 1)\n",
    "\n",
    "X_df = GQ_df.drop(['label_x','label_y','date'], axis=1)\n",
    "X_df['ticker'] = X_df['ticker'].astype('category').cat.codes\n",
    "X = X_df.values"
   ]
  },
  {
   "cell_type": "code",
   "execution_count": 162,
   "metadata": {
    "collapsed": true
   },
   "outputs": [],
   "source": [
    "X_train, X_vt, y_train, y_vt = train_test_split(X, Y, test_size=0.30, random_state=42)\n",
    "X_validation, X_test, y_validation, y_test = train_test_split(X_vt, y_vt, test_size=0.50, random_state=42)\n",
    "\n",
    "scaler = StandardScaler()\n",
    "X_train = scaler.fit_transform(X_train)"
   ]
  },
  {
   "cell_type": "code",
   "execution_count": 163,
   "metadata": {
    "collapsed": true
   },
   "outputs": [],
   "source": [
    "X_validation = scaler.transform(X_validation)"
   ]
  },
  {
   "cell_type": "code",
   "execution_count": 164,
   "metadata": {
    "collapsed": false
   },
   "outputs": [
    {
     "data": {
      "text/plain": [
       "[3.0517578125e-05, 0.0009765625, 0.03125, 1, 32, 1024, 32768]"
      ]
     },
     "execution_count": 164,
     "metadata": {},
     "output_type": "execute_result"
    }
   ],
   "source": [
    "[2**x for x in xrange(-15, 20, 5)]"
   ]
  },
  {
   "cell_type": "code",
   "execution_count": 165,
   "metadata": {
    "collapsed": false
   },
   "outputs": [
    {
     "data": {
      "text/plain": [
       "'\\nks = [x for x in xrange(1,X.shape[1])]\\nCs = [2**x for x in xrange(-15, 20, 5)]\\ngammas = [2**x for x in xrange(-15, 20, 5)]\\n# RANDOM SEARCH\\nfor i in xrange(20):\\n    k = np.random.choice(ks)\\n    skb = SelectKBest(k=k)\\n    skb = skb.fit(X_train,y_train.ravel())\\n    skb_X_train = skb.transform(X_train)\\n    \\n    C = np.random.choice(Cs)\\n    gamma = 2**-10\\n    clf = SVC(C=C, cache_size=200, class_weight=\\'auto\\', coef0=0.0, degree=3, gamma=gamma, kernel=\\'rbf\\', max_iter=-1, probability=False, random_state=42, shrinking=True, tol=0.001, verbose=False)\\n    clf.fit(skb_X_train,y_train.ravel())\\n    \\n    skb_X_validation = skb.transform(X_validation)\\n    print \"k=\", k, \"C =\", C, \"gamma =\", gamma, \"score:\", clf.score(skb_X_validation,y_validation.ravel())\\n'"
      ]
     },
     "execution_count": 165,
     "metadata": {},
     "output_type": "execute_result"
    }
   ],
   "source": [
    "'''\n",
    "ks = [x for x in xrange(1,X.shape[1])]\n",
    "Cs = [2**x for x in xrange(-15, 20, 5)]\n",
    "gammas = [2**x for x in xrange(-15, 20, 5)]\n",
    "# RANDOM SEARCH\n",
    "for i in xrange(20):\n",
    "    k = np.random.choice(ks)\n",
    "    skb = SelectKBest(k=k)\n",
    "    skb = skb.fit(X_train,y_train.ravel())\n",
    "    skb_X_train = skb.transform(X_train)\n",
    "    \n",
    "    C = np.random.choice(Cs)\n",
    "    gamma = 2**-10\n",
    "    clf = SVC(C=C, cache_size=200, class_weight='auto', coef0=0.0, degree=3, gamma=gamma, kernel='rbf', max_iter=-1, probability=False, random_state=42, shrinking=True, tol=0.001, verbose=False)\n",
    "    clf.fit(skb_X_train,y_train.ravel())\n",
    "    \n",
    "    skb_X_validation = skb.transform(X_validation)\n",
    "    print \"k=\", k, \"C =\", C, \"gamma =\", gamma, \"score:\", clf.score(skb_X_validation,y_validation.ravel())\n",
    "'''"
   ]
  },
  {
   "cell_type": "markdown",
   "metadata": {},
   "source": [
    "---"
   ]
  },
  {
   "cell_type": "code",
   "execution_count": 166,
   "metadata": {
    "collapsed": true
   },
   "outputs": [],
   "source": [
    "X_test = scaler.transform(X_test)"
   ]
  },
  {
   "cell_type": "code",
   "execution_count": 178,
   "metadata": {
    "collapsed": false
   },
   "outputs": [
    {
     "data": {
      "text/plain": [
       "0.69616519174041303"
      ]
     },
     "execution_count": 178,
     "metadata": {},
     "output_type": "execute_result"
    }
   ],
   "source": [
    "skb = SelectKBest(k=2)\n",
    "skb = skb.fit(X_train,y_train.ravel())\n",
    "skb_X_train = skb.transform(X_train)\n",
    "\n",
    "skb_X_test = skb.transform(X_test)\n",
    "\n",
    "clf = SVC(C=2**10, cache_size=200, class_weight='auto', coef0=0.0, degree=3, gamma=2**-10, kernel='rbf', max_iter=-1, probability=True, random_state=42, shrinking=True, tol=0.001, verbose=False)\n",
    "clf.fit(skb_X_train,y_train.ravel())\n",
    "clf.score(skb_X_test,y_test.ravel())"
   ]
  },
  {
   "cell_type": "code",
   "execution_count": 168,
   "metadata": {
    "collapsed": false
   },
   "outputs": [
    {
     "name": "stdout",
     "output_type": "stream",
     "text": [
      "             precision    recall  f1-score   support\n",
      "\n",
      "          0       0.59      0.78      0.67       134\n",
      "          1       0.82      0.65      0.73       205\n",
      "\n",
      "avg / total       0.73      0.70      0.71       339\n",
      "\n"
     ]
    }
   ],
   "source": [
    "print classification_report(y_test, clf.predict(skb_X_test))"
   ]
  },
  {
   "cell_type": "code",
   "execution_count": 187,
   "metadata": {
    "collapsed": false
   },
   "outputs": [
    {
     "name": "stdout",
     "output_type": "stream",
     "text": [
      "HL% 180.5\n",
      "10.0-lo_hi% 149.6\n",
      "10.3-lo_hi% 135.4\n",
      "11.0-lo_hi% 91.1\n",
      "11.3-lo_hi% 103.9\n",
      "12.0-lo_hi% 101.0\n",
      "12.3-lo_hi% 119.7\n",
      "13.0-lo_hi% 60.4\n",
      "13.3-lo_hi% 85.1\n",
      "14.0-lo_hi% 84.0\n",
      "14.3-lo_hi% 104.4\n",
      "15.0-lo_hi% 89.3\n",
      "15.3-lo_hi% 114.0\n"
     ]
    }
   ],
   "source": [
    "for i in xrange(X_df.columns.shape[0]):\n",
    "    if np.round(skb.scores_[i], 1) > 50:\n",
    "        print X_df.columns[i], np.round(skb.scores_[i], 1)"
   ]
  },
  {
   "cell_type": "markdown",
   "metadata": {},
   "source": [
    "---"
   ]
  },
  {
   "cell_type": "code",
   "execution_count": 169,
   "metadata": {
    "collapsed": false
   },
   "outputs": [],
   "source": [
    "pred_df = GQ_prediction_df[GQ_prediction_df['label_x'].apply(np.isnan) == True]\n",
    "pred_df = pred_df.drop(['label_x','label_y','date'], axis=1)\n",
    "pred_df = pred_df.dropna()\n",
    "pred_tickers = pred_df['ticker'].unique()"
   ]
  },
  {
   "cell_type": "code",
   "execution_count": 170,
   "metadata": {
    "collapsed": false
   },
   "outputs": [
    {
     "data": {
      "text/plain": [
       "(55, 4)"
      ]
     },
     "execution_count": 170,
     "metadata": {},
     "output_type": "execute_result"
    }
   ],
   "source": [
    "pred_df['ticker'] = pred_df['ticker'].astype('category').cat.codes\n",
    "pred_X = pred_df.values\n",
    "pred_X = scaler.transform(pred_X)\n",
    "pred_X = skb.transform(pred_X)\n",
    "pred_X.shape"
   ]
  },
  {
   "cell_type": "code",
   "execution_count": 172,
   "metadata": {
    "collapsed": false
   },
   "outputs": [
    {
     "name": "stdout",
     "output_type": "stream",
     "text": [
      "0 ACOR [1] [ 0.30071302  0.69928698]  T\n",
      "1 AERI [1] [ 0.33949551  0.66050449]  T\n",
      "2 AFFX [0] [ 0.57177601  0.42822399]  T\n",
      "3 AGEN [1] [ 0.32137679  0.67862321]  T\n",
      "4 ARWR [1] [ 0.41453967  0.58546033]  T\n",
      "5 AXDX [0] [ 0.44368236  0.55631764]  T\n",
      "6 BABY [0] [ 0.73603992  0.26396008]  \n",
      "7 BCRX [1] [ 0.30676157  0.69323843]  T\n",
      "8 BLUE [1] [ 0.40968733  0.59031267]  T\n",
      "9 CBPO [0] [ 0.5  0.5]  T\n",
      "10 CLDN [0] [ 0.72226912  0.27773088]  T\n",
      "11 CLDX [1] [ 0.27741628  0.72258372]  T\n",
      "12 CPHD [0] [ 0.5761316  0.4238684]  \n",
      "13 CPRX [1] [ 0.08536804  0.91463196] <-- T\n",
      "14 CYBX [0] [ 0.75721034  0.24278966]  \n",
      "15 CYTR [1] [ 0.19093029  0.80906971]  T\n",
      "16 DSCO [1] [ 0.12006862  0.87993138] <-- T\n",
      "17 DYAX [0] [ 0.45082524  0.54917476]  T\n",
      "18 ENZN [1] [ 0.18881083  0.81118917]  T\n",
      "19 EXEL [1] [ 0.2355494  0.7644506]  T\n",
      "20 FEIC [0] [ 0.62171776  0.37828224]  \n",
      "21 FLDM [1] [ 0.20010212  0.79989788]  T\n",
      "22 HALO [1] [ 0.41637352  0.58362648]  T\n",
      "23 IDRA [1] [ 0.32282453  0.67717547]  T\n",
      "24 IDXX [0] [ 0.74269047  0.25730953]  \n",
      "25 ILMN [0] [ 0.65211246  0.34788754]  \n",
      "26 INCY [0] [ 0.43776013  0.56223987]  T\n",
      "27 LJPC [1] [ 0.20808292  0.79191708]  T\n",
      "28 MASI [0] [ 0.61465121  0.38534879]  \n",
      "29 MEIP [0] [ 0.64926291  0.35073709]  T\n",
      "30 MNKD [1] [ 0.2411228  0.7588772]  T\n",
      "31 MNTA [0] [ 0.42261477  0.57738523]  T\n",
      "32 MYGN [0] [ 0.63412979  0.36587021]  T\n",
      "33 NEOG [0] [ 0.53238651  0.46761349]  \n",
      "34 NSTG [0] [ 0.58691775  0.41308225]  T\n",
      "35 NVAX [1] [ 0.20625319  0.79374681]  T\n",
      "36 NXTM [0] [ 0.6700902  0.3299098]  \n",
      "37 ONTY [1] [ 0.27681836  0.72318164]  T\n",
      "38 OSIR [0] [ 0.44615473  0.55384527]  T\n",
      "39 PACB [1] [ 0.21329913  0.78670087]  T\n",
      "40 PDLI [0] [ 0.59226653  0.40773347]  \n",
      "41 PGNX [1] [ 0.20288  0.79712]  T\n",
      "42 PRXL [0] [ 0.56959865  0.43040135]  \n",
      "43 QDEL [0] [ 0.63854775  0.36145225]  \n",
      "44 RGEN [1] [ 0.35283167  0.64716833]  T\n",
      "45 RMTI [0] [ 0.42652571  0.57347429]  T\n",
      "46 RPRX [1] [ 0.38722086  0.61277914]  T\n",
      "47 SGYP [1] [ 0.28386359  0.71613641]  T\n",
      "48 SNMX [1] [ 0.26907531  0.73092469]  T\n",
      "49 SPNC [0] [ 0.61455632  0.38544368]  T\n",
      "50 SRNE [1] [ 0.12713116  0.87286884] <-- T\n",
      "51 STEM [1] [ 0.31376757  0.68623243]  T\n",
      "52 TECH [0] [ 0.72768653  0.27231347]  \n",
      "53 THLD [1] [ 0.41366331  0.58633669]  T\n",
      "54 TRVN [1] [ 0.36922983  0.63077017]  T\n"
     ]
    }
   ],
   "source": [
    "X_probabilities = clf.predict_proba(pred_X)\n",
    "for i in xrange(pred_X.shape[0]):\n",
    "    print i, pred_tickers[i], clf.predict(pred_X[i]), X_probabilities[i], \"<--\" if X_probabilities[i][1] > 0.85 else '', \"T\" if pred_tickers[i] in tickers_to_save else '' "
   ]
  }
 ],
 "metadata": {
  "kernelspec": {
   "display_name": "Python 2",
   "language": "python",
   "name": "python2"
  },
  "language_info": {
   "codemirror_mode": {
    "name": "ipython",
    "version": 2
   },
   "file_extension": ".py",
   "mimetype": "text/x-python",
   "name": "python",
   "nbconvert_exporter": "python",
   "pygments_lexer": "ipython2",
   "version": "2.7.10"
  }
 },
 "nbformat": 4,
 "nbformat_minor": 0
}
